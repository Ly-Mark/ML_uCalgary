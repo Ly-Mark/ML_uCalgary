{
 "cells": [
  {
   "cell_type": "markdown",
   "metadata": {
    "collapsed": true,
    "pycharm": {
     "name": "#%% md\n"
    }
   },
   "source": [
    "# Data 622\n",
    "## Assignment 1\n",
    "Mark Ly\n",
    "\n",
    "Student ID: 00504696"
   ]
  },
  {
   "cell_type": "code",
   "execution_count": 39,
   "outputs": [],
   "source": [
    "import numpy as np\n",
    "import pandas as pd\n",
    "import matplotlib.pyplot as plt\n",
    "import seaborn as sns\n",
    "\n",
    "#sklearn imports\n",
    "# sklearn preprocessing\n",
    "from sklearn import preprocessing\n",
    "\n",
    "# sklearn model selection and metrics\n",
    "from sklearn.model_selection import train_test_split\n",
    "from sklearn.model_selection import GridSearchCV\n",
    "from sklearn.model_selection import cross_validate\n",
    "from sklearn import metrics\n",
    "\n",
    "# classifier\n",
    "from sklearn.svm import SVC"
   ],
   "metadata": {
    "collapsed": false,
    "pycharm": {
     "name": "#%%\n"
    }
   }
  },
  {
   "cell_type": "markdown",
   "source": [
    "### Features\n",
    "After loading all of our packages we will then read the Cervical Cancer dataset from the UCI Machine Learning\n",
    "Repository using pandas. We then want to select all the continuous variables to use in our SVC model. To determine\n",
    "which variables are continuous or not, we consulted the datasets webpage and selected all the variables that were not\n",
    " booleans. (Age, Number of sexual partners, First Sexual intercourse (age), Num of pregnancies, Hormonal\n",
    " contraceptives (years), IUD (years), STDs (number),STDs: Number of diagnosis, STDs: Times since first diagnosis and,\n",
    " STDs:time since last diagnosis).\n",
    "\n",
    "Instead of selection based on the name, we put all the column names in a list and then determine their integer\n",
    "location based on that list to subset our data."
   ],
   "metadata": {
    "collapsed": false,
    "pycharm": {
     "name": "#%% md\n"
    }
   }
  },
  {
   "cell_type": "code",
   "execution_count": 40,
   "outputs": [
    {
     "data": {
      "text/plain": "(858, 10)"
     },
     "execution_count": 40,
     "metadata": {},
     "output_type": "execute_result"
    }
   ],
   "source": [
    "# Loading data and selecting the continuous variables\n",
    "df_cc = pd.read_csv(\"risk_factors_cervical_cancer.csv\", na_values=\"?\")\n",
    "df_cc.head()\n",
    "list(df_cc.columns)\n",
    "cc_selected = df_cc.iloc[:,[0,1,2,3,8,10,12,25,26,27]]\n",
    "cc_selected.shape  # 858, 10"
   ],
   "metadata": {
    "collapsed": false,
    "pycharm": {
     "name": "#%%\n"
    }
   }
  },
  {
   "cell_type": "markdown",
   "source": [
    "### Target Variable\n",
    "The target variable is the binary variable biopsy which we will store in another dataframe and check for any missing\n",
    "values."
   ],
   "metadata": {
    "collapsed": false,
    "pycharm": {
     "name": "#%% md\n"
    }
   }
  },
  {
   "cell_type": "code",
   "execution_count": 41,
   "outputs": [
    {
     "data": {
      "text/plain": "count    858.000000\nmean       0.064103\nstd        0.245078\nmin        0.000000\n25%        0.000000\n50%        0.000000\n75%        0.000000\nmax        1.000000\nName: Biopsy, dtype: float64"
     },
     "execution_count": 41,
     "metadata": {},
     "output_type": "execute_result"
    }
   ],
   "source": [
    "y = df_cc['Biopsy']\n",
    "y.describe() # 858 entries, no missing values"
   ],
   "metadata": {
    "collapsed": false,
    "pycharm": {
     "name": "#%%\n"
    }
   }
  },
  {
   "cell_type": "markdown",
   "source": [
    "### Data pre-processing\n",
    "The biopsy dataframe has no missing values since it has 858 entries, However our other dataframe has missing values\n",
    "for all the columns except for Age and STDs: Number of diagnosis. We will impute the missing values with the\n",
    "median values and then scale each feature to be a zero mean and a unit variance of"
   ],
   "metadata": {
    "collapsed": false,
    "pycharm": {
     "name": "#%% md\n"
    }
   }
  },
  {
   "cell_type": "code",
   "execution_count": 42,
   "outputs": [
    {
     "data": {
      "text/plain": "              Age  Number of sexual partners  First sexual intercourse  \\\ncount  858.000000                 832.000000                851.000000   \nmean    26.820513                   2.527644                 16.995300   \nstd      8.497948                   1.667760                  2.803355   \nmin     13.000000                   1.000000                 10.000000   \n25%     20.000000                   2.000000                 15.000000   \n50%     25.000000                   2.000000                 17.000000   \n75%     32.000000                   3.000000                 18.000000   \nmax     84.000000                  28.000000                 32.000000   \n\n       Num of pregnancies  Hormonal Contraceptives (years)  IUD (years)  \\\ncount          802.000000                       750.000000   741.000000   \nmean             2.275561                         2.256419     0.514804   \nstd              1.447414                         3.764254     1.943089   \nmin              0.000000                         0.000000     0.000000   \n25%              1.000000                         0.000000     0.000000   \n50%              2.000000                         0.500000     0.000000   \n75%              3.000000                         3.000000     0.000000   \nmax             11.000000                        30.000000    19.000000   \n\n       STDs (number)  STDs: Number of diagnosis  \\\ncount     753.000000                 858.000000   \nmean        0.176627                   0.087413   \nstd         0.561993                   0.302545   \nmin         0.000000                   0.000000   \n25%         0.000000                   0.000000   \n50%         0.000000                   0.000000   \n75%         0.000000                   0.000000   \nmax         4.000000                   3.000000   \n\n       STDs: Time since first diagnosis  STDs: Time since last diagnosis  \ncount                         71.000000                        71.000000  \nmean                           6.140845                         5.816901  \nstd                            5.895024                         5.755271  \nmin                            1.000000                         1.000000  \n25%                            2.000000                         2.000000  \n50%                            4.000000                         3.000000  \n75%                            8.000000                         7.500000  \nmax                           22.000000                        22.000000  ",
      "text/html": "<div>\n<style scoped>\n    .dataframe tbody tr th:only-of-type {\n        vertical-align: middle;\n    }\n\n    .dataframe tbody tr th {\n        vertical-align: top;\n    }\n\n    .dataframe thead th {\n        text-align: right;\n    }\n</style>\n<table border=\"1\" class=\"dataframe\">\n  <thead>\n    <tr style=\"text-align: right;\">\n      <th></th>\n      <th>Age</th>\n      <th>Number of sexual partners</th>\n      <th>First sexual intercourse</th>\n      <th>Num of pregnancies</th>\n      <th>Hormonal Contraceptives (years)</th>\n      <th>IUD (years)</th>\n      <th>STDs (number)</th>\n      <th>STDs: Number of diagnosis</th>\n      <th>STDs: Time since first diagnosis</th>\n      <th>STDs: Time since last diagnosis</th>\n    </tr>\n  </thead>\n  <tbody>\n    <tr>\n      <th>count</th>\n      <td>858.000000</td>\n      <td>832.000000</td>\n      <td>851.000000</td>\n      <td>802.000000</td>\n      <td>750.000000</td>\n      <td>741.000000</td>\n      <td>753.000000</td>\n      <td>858.000000</td>\n      <td>71.000000</td>\n      <td>71.000000</td>\n    </tr>\n    <tr>\n      <th>mean</th>\n      <td>26.820513</td>\n      <td>2.527644</td>\n      <td>16.995300</td>\n      <td>2.275561</td>\n      <td>2.256419</td>\n      <td>0.514804</td>\n      <td>0.176627</td>\n      <td>0.087413</td>\n      <td>6.140845</td>\n      <td>5.816901</td>\n    </tr>\n    <tr>\n      <th>std</th>\n      <td>8.497948</td>\n      <td>1.667760</td>\n      <td>2.803355</td>\n      <td>1.447414</td>\n      <td>3.764254</td>\n      <td>1.943089</td>\n      <td>0.561993</td>\n      <td>0.302545</td>\n      <td>5.895024</td>\n      <td>5.755271</td>\n    </tr>\n    <tr>\n      <th>min</th>\n      <td>13.000000</td>\n      <td>1.000000</td>\n      <td>10.000000</td>\n      <td>0.000000</td>\n      <td>0.000000</td>\n      <td>0.000000</td>\n      <td>0.000000</td>\n      <td>0.000000</td>\n      <td>1.000000</td>\n      <td>1.000000</td>\n    </tr>\n    <tr>\n      <th>25%</th>\n      <td>20.000000</td>\n      <td>2.000000</td>\n      <td>15.000000</td>\n      <td>1.000000</td>\n      <td>0.000000</td>\n      <td>0.000000</td>\n      <td>0.000000</td>\n      <td>0.000000</td>\n      <td>2.000000</td>\n      <td>2.000000</td>\n    </tr>\n    <tr>\n      <th>50%</th>\n      <td>25.000000</td>\n      <td>2.000000</td>\n      <td>17.000000</td>\n      <td>2.000000</td>\n      <td>0.500000</td>\n      <td>0.000000</td>\n      <td>0.000000</td>\n      <td>0.000000</td>\n      <td>4.000000</td>\n      <td>3.000000</td>\n    </tr>\n    <tr>\n      <th>75%</th>\n      <td>32.000000</td>\n      <td>3.000000</td>\n      <td>18.000000</td>\n      <td>3.000000</td>\n      <td>3.000000</td>\n      <td>0.000000</td>\n      <td>0.000000</td>\n      <td>0.000000</td>\n      <td>8.000000</td>\n      <td>7.500000</td>\n    </tr>\n    <tr>\n      <th>max</th>\n      <td>84.000000</td>\n      <td>28.000000</td>\n      <td>32.000000</td>\n      <td>11.000000</td>\n      <td>30.000000</td>\n      <td>19.000000</td>\n      <td>4.000000</td>\n      <td>3.000000</td>\n      <td>22.000000</td>\n      <td>22.000000</td>\n    </tr>\n  </tbody>\n</table>\n</div>"
     },
     "metadata": {},
     "output_type": "display_data"
    },
    {
     "data": {
      "text/plain": "<AxesSubplot:>"
     },
     "execution_count": 42,
     "metadata": {},
     "output_type": "execute_result"
    },
    {
     "data": {
      "text/plain": "<Figure size 720x432 with 2 Axes>",
      "image/png": "[encoded data removed]"
     },
     "metadata": {
      "needs_background": "light"
     },
     "output_type": "display_data"
    }
   ],
   "source": [
    "# checking for missing variables. Any column that has less than 858 for the count is missing values\n",
    "display(cc_selected.describe())\n",
    "\n",
    "# Using a heat map to check for missing data\n",
    "plt.figure(figsize=(10,6))\n",
    "sns.heatmap(cc_selected.isna().transpose(),\n",
    "            cmap=\"YlGnBu\",\n",
    "            cbar_kws={'label': 'Missing Data'})"
   ],
   "metadata": {
    "collapsed": false,
    "pycharm": {
     "name": "#%%\n"
    }
   }
  },
  {
   "cell_type": "code",
   "execution_count": 43,
   "outputs": [
    {
     "data": {
      "text/plain": "              Age  NumPartners    FirstSex     NumPreg  HormoneContraYear  \\\ncount  858.000000   858.000000  858.000000  858.000000         858.000000   \nmean    26.820513     2.511655   16.995338    2.257576           2.035331   \nstd      8.497948     1.644759    2.791883    1.400981           3.567040   \nmin     13.000000     1.000000   10.000000    0.000000           0.000000   \n25%     20.000000     2.000000   15.000000    1.000000           0.000000   \n50%     25.000000     2.000000   17.000000    2.000000           0.500000   \n75%     32.000000     3.000000   18.000000    3.000000           2.000000   \nmax     84.000000    28.000000   32.000000   11.000000          30.000000   \n\n          IUDYear   STDNumber     NumDiag   FirstDiag    LastDiag  \ncount  858.000000  858.000000  858.000000  858.000000  858.000000  \nmean     0.444604    0.155012    0.087413    4.177156    3.233100  \nstd      1.814218    0.529617    0.302545    1.785156    1.818927  \nmin      0.000000    0.000000    0.000000    1.000000    1.000000  \n25%      0.000000    0.000000    0.000000    4.000000    3.000000  \n50%      0.000000    0.000000    0.000000    4.000000    3.000000  \n75%      0.000000    0.000000    0.000000    4.000000    3.000000  \nmax     19.000000    4.000000    3.000000   22.000000   22.000000  ",
      "text/html": "<div>\n<style scoped>\n    .dataframe tbody tr th:only-of-type {\n        vertical-align: middle;\n    }\n\n    .dataframe tbody tr th {\n        vertical-align: top;\n    }\n\n    .dataframe thead th {\n        text-align: right;\n    }\n</style>\n<table border=\"1\" class=\"dataframe\">\n  <thead>\n    <tr style=\"text-align: right;\">\n      <th></th>\n      <th>Age</th>\n      <th>NumPartners</th>\n      <th>FirstSex</th>\n      <th>NumPreg</th>\n      <th>HormoneContraYear</th>\n      <th>IUDYear</th>\n      <th>STDNumber</th>\n      <th>NumDiag</th>\n      <th>FirstDiag</th>\n      <th>LastDiag</th>\n    </tr>\n  </thead>\n  <tbody>\n    <tr>\n      <th>count</th>\n      <td>858.000000</td>\n      <td>858.000000</td>\n      <td>858.000000</td>\n      <td>858.000000</td>\n      <td>858.000000</td>\n      <td>858.000000</td>\n      <td>858.000000</td>\n      <td>858.000000</td>\n      <td>858.000000</td>\n      <td>858.000000</td>\n    </tr>\n    <tr>\n      <th>mean</th>\n      <td>26.820513</td>\n      <td>2.511655</td>\n      <td>16.995338</td>\n      <td>2.257576</td>\n      <td>2.035331</td>\n      <td>0.444604</td>\n      <td>0.155012</td>\n      <td>0.087413</td>\n      <td>4.177156</td>\n      <td>3.233100</td>\n    </tr>\n    <tr>\n      <th>std</th>\n      <td>8.497948</td>\n      <td>1.644759</td>\n      <td>2.791883</td>\n      <td>1.400981</td>\n      <td>3.567040</td>\n      <td>1.814218</td>\n      <td>0.529617</td>\n      <td>0.302545</td>\n      <td>1.785156</td>\n      <td>1.818927</td>\n    </tr>\n    <tr>\n      <th>min</th>\n      <td>13.000000</td>\n      <td>1.000000</td>\n      <td>10.000000</td>\n      <td>0.000000</td>\n      <td>0.000000</td>\n      <td>0.000000</td>\n      <td>0.000000</td>\n      <td>0.000000</td>\n      <td>1.000000</td>\n      <td>1.000000</td>\n    </tr>\n    <tr>\n      <th>25%</th>\n      <td>20.000000</td>\n      <td>2.000000</td>\n      <td>15.000000</td>\n      <td>1.000000</td>\n      <td>0.000000</td>\n      <td>0.000000</td>\n      <td>0.000000</td>\n      <td>0.000000</td>\n      <td>4.000000</td>\n      <td>3.000000</td>\n    </tr>\n    <tr>\n      <th>50%</th>\n      <td>25.000000</td>\n      <td>2.000000</td>\n      <td>17.000000</td>\n      <td>2.000000</td>\n      <td>0.500000</td>\n      <td>0.000000</td>\n      <td>0.000000</td>\n      <td>0.000000</td>\n      <td>4.000000</td>\n      <td>3.000000</td>\n    </tr>\n    <tr>\n      <th>75%</th>\n      <td>32.000000</td>\n      <td>3.000000</td>\n      <td>18.000000</td>\n      <td>3.000000</td>\n      <td>2.000000</td>\n      <td>0.000000</td>\n      <td>0.000000</td>\n      <td>0.000000</td>\n      <td>4.000000</td>\n      <td>3.000000</td>\n    </tr>\n    <tr>\n      <th>max</th>\n      <td>84.000000</td>\n      <td>28.000000</td>\n      <td>32.000000</td>\n      <td>11.000000</td>\n      <td>30.000000</td>\n      <td>19.000000</td>\n      <td>4.000000</td>\n      <td>3.000000</td>\n      <td>22.000000</td>\n      <td>22.000000</td>\n    </tr>\n  </tbody>\n</table>\n</div>"
     },
     "metadata": {},
     "output_type": "display_data"
    },
    {
     "data": {
      "text/plain": "<AxesSubplot:>"
     },
     "execution_count": 43,
     "metadata": {},
     "output_type": "execute_result"
    },
    {
     "data": {
      "text/plain": "<Figure size 720x432 with 2 Axes>",
      "image/png": "[encoded data removed]"
     },
     "metadata": {
      "needs_background": "light"
     },
     "output_type": "display_data"
    }
   ],
   "source": [
    "from sklearn.impute import SimpleImputer\n",
    "\n",
    "# renaming columns\n",
    "cc_cols = {0:'Age',1:'NumPartners',2:'FirstSex',3:'NumPreg',4:'HormoneContraYear',5:'IUDYear',6:'STDNumber',7:'NumDiag',\n",
    "           8:'FirstDiag',9:'LastDiag'}\n",
    "\n",
    "# using sklearns SimpleImputer\n",
    "imp = SimpleImputer(missing_values=np.nan, strategy='median')\n",
    "imp.fit(cc_selected)\n",
    "cc_selected_imp = pd.DataFrame(imp.transform(cc_selected))\n",
    "\n",
    "# applying new column names\n",
    "cc_selected_imp.rename(columns=cc_cols,inplace=True)\n",
    "display(cc_selected_imp.describe())\n",
    "\n",
    "plt.figure(figsize=(10,6))\n",
    "sns.heatmap(cc_selected_imp.isna().transpose(),\n",
    "            cmap=\"YlGnBu\",\n",
    "            cbar_kws={'label': 'Missing Data'})"
   ],
   "metadata": {
    "collapsed": false,
    "pycharm": {
     "name": "#%%\n"
    }
   }
  },
  {
   "cell_type": "code",
   "execution_count": 44,
   "outputs": [
    {
     "data": {
      "text/plain": "                  0             1             2             3             4  \\\ncount  8.580000e+02  8.580000e+02  8.580000e+02  8.580000e+02  8.580000e+02   \nmean   3.524117e-16 -3.881899e-18  3.364312e-16  1.048113e-16 -2.714741e-16   \nstd    1.000583e+00  1.000583e+00  1.000583e+00  1.000583e+00  1.000583e+00   \nmin   -1.627284e+00 -9.196100e-01 -2.507060e+00 -1.612364e+00 -5.709267e-01   \n25%   -8.030752e-01 -3.112635e-01 -7.151094e-01 -8.981627e-01 -5.709267e-01   \n50%   -2.143546e-01 -3.112635e-01  1.670816e-03 -1.839610e-01 -4.306727e-01   \n75%    6.098541e-01  2.970830e-01  3.600609e-01  5.302406e-01 -9.910759e-03   \nmax    6.732547e+00  1.550575e+01  5.377522e+00  6.243854e+00  7.844313e+00   \n\n                  5             6             7             8             9  \ncount  8.580000e+02  8.580000e+02  8.580000e+02  8.580000e+02  8.580000e+02  \nmean   6.320378e-16  9.471833e-17 -9.264798e-17 -2.208477e-16 -1.837432e-17  \nstd    1.000583e+00  1.000583e+00  1.000583e+00  1.000583e+00  1.000583e+00  \nmin   -2.452093e-01 -2.928571e-01 -2.890930e-01 -1.780802e+00 -1.228418e+00  \n25%   -2.452093e-01 -2.928571e-01 -2.890930e-01 -9.929636e-02 -1.282274e-01  \n50%   -2.452093e-01 -2.928571e-01 -2.890930e-01 -9.929636e-02 -1.282274e-01  \n75%   -2.452093e-01 -2.928571e-01 -2.890930e-01 -9.929636e-02 -1.282274e-01  \nmax    1.023373e+01  7.264177e+00  9.632579e+00  9.989737e+00  1.032359e+01  ",
      "text/html": "<div>\n<style scoped>\n    .dataframe tbody tr th:only-of-type {\n        vertical-align: middle;\n    }\n\n    .dataframe tbody tr th {\n        vertical-align: top;\n    }\n\n    .dataframe thead th {\n        text-align: right;\n    }\n</style>\n<table border=\"1\" class=\"dataframe\">\n  <thead>\n    <tr style=\"text-align: right;\">\n      <th></th>\n      <th>0</th>\n      <th>1</th>\n      <th>2</th>\n      <th>3</th>\n      <th>4</th>\n      <th>5</th>\n      <th>6</th>\n      <th>7</th>\n      <th>8</th>\n      <th>9</th>\n    </tr>\n  </thead>\n  <tbody>\n    <tr>\n      <th>count</th>\n      <td>8.580000e+02</td>\n      <td>8.580000e+02</td>\n      <td>8.580000e+02</td>\n      <td>8.580000e+02</td>\n      <td>8.580000e+02</td>\n      <td>8.580000e+02</td>\n      <td>8.580000e+02</td>\n      <td>8.580000e+02</td>\n      <td>8.580000e+02</td>\n      <td>8.580000e+02</td>\n    </tr>\n    <tr>\n      <th>mean</th>\n      <td>3.524117e-16</td>\n      <td>-3.881899e-18</td>\n      <td>3.364312e-16</td>\n      <td>1.048113e-16</td>\n      <td>-2.714741e-16</td>\n      <td>6.320378e-16</td>\n      <td>9.471833e-17</td>\n      <td>-9.264798e-17</td>\n      <td>-2.208477e-16</td>\n      <td>-1.837432e-17</td>\n    </tr>\n    <tr>\n      <th>std</th>\n      <td>1.000583e+00</td>\n      <td>1.000583e+00</td>\n      <td>1.000583e+00</td>\n      <td>1.000583e+00</td>\n      <td>1.000583e+00</td>\n      <td>1.000583e+00</td>\n      <td>1.000583e+00</td>\n      <td>1.000583e+00</td>\n      <td>1.000583e+00</td>\n      <td>1.000583e+00</td>\n    </tr>\n    <tr>\n      <th>min</th>\n      <td>-1.627284e+00</td>\n      <td>-9.196100e-01</td>\n      <td>-2.507060e+00</td>\n      <td>-1.612364e+00</td>\n      <td>-5.709267e-01</td>\n      <td>-2.452093e-01</td>\n      <td>-2.928571e-01</td>\n      <td>-2.890930e-01</td>\n      <td>-1.780802e+00</td>\n      <td>-1.228418e+00</td>\n    </tr>\n    <tr>\n      <th>25%</th>\n      <td>-8.030752e-01</td>\n      <td>-3.112635e-01</td>\n      <td>-7.151094e-01</td>\n      <td>-8.981627e-01</td>\n      <td>-5.709267e-01</td>\n      <td>-2.452093e-01</td>\n      <td>-2.928571e-01</td>\n      <td>-2.890930e-01</td>\n      <td>-9.929636e-02</td>\n      <td>-1.282274e-01</td>\n    </tr>\n    <tr>\n      <th>50%</th>\n      <td>-2.143546e-01</td>\n      <td>-3.112635e-01</td>\n      <td>1.670816e-03</td>\n      <td>-1.839610e-01</td>\n      <td>-4.306727e-01</td>\n      <td>-2.452093e-01</td>\n      <td>-2.928571e-01</td>\n      <td>-2.890930e-01</td>\n      <td>-9.929636e-02</td>\n      <td>-1.282274e-01</td>\n    </tr>\n    <tr>\n      <th>75%</th>\n      <td>6.098541e-01</td>\n      <td>2.970830e-01</td>\n      <td>3.600609e-01</td>\n      <td>5.302406e-01</td>\n      <td>-9.910759e-03</td>\n      <td>-2.452093e-01</td>\n      <td>-2.928571e-01</td>\n      <td>-2.890930e-01</td>\n      <td>-9.929636e-02</td>\n      <td>-1.282274e-01</td>\n    </tr>\n    <tr>\n      <th>max</th>\n      <td>6.732547e+00</td>\n      <td>1.550575e+01</td>\n      <td>5.377522e+00</td>\n      <td>6.243854e+00</td>\n      <td>7.844313e+00</td>\n      <td>1.023373e+01</td>\n      <td>7.264177e+00</td>\n      <td>9.632579e+00</td>\n      <td>9.989737e+00</td>\n      <td>1.032359e+01</td>\n    </tr>\n  </tbody>\n</table>\n</div>"
     },
     "execution_count": 44,
     "metadata": {},
     "output_type": "execute_result"
    }
   ],
   "source": [
    "from sklearn import preprocessing\n",
    "# Scale each feature to be zero mean and unit variance\n",
    "X = preprocessing.scale(cc_selected_imp)\n",
    "X1 = pd.DataFrame(X)\n",
    "X1.describe()"
   ],
   "metadata": {
    "collapsed": false,
    "pycharm": {
     "name": "#%%\n"
    }
   }
  },
  {
   "cell_type": "markdown",
   "source": [
    "### Data pre-processing\n",
    "Now that we have wrangled all of our data, we can begin to split our data into training and testing data. We aim to\n",
    "have 70% of our data in training and 30% for testing. To change this value we can use the test_size parameter. We will\n",
    "select a random seed (824) in order to reproduce our results. Since we have 858 rows, we expect 600 to be in the\n",
    "training and 258 to be in our testing."
   ],
   "metadata": {
    "collapsed": false,
    "pycharm": {
     "name": "#%% md\n"
    }
   }
  },
  {
   "cell_type": "code",
   "execution_count": 45,
   "outputs": [
    {
     "name": "stdout",
     "output_type": "stream",
     "text": [
      "(600, 10)\n",
      "(600,)\n",
      "(258, 10)\n",
      "(258,)\n"
     ]
    }
   ],
   "source": [
    "from sklearn.model_selection import train_test_split\n",
    "\n",
    "X_train, X_test, y_train, y_test = train_test_split(X, y, test_size=0.3, random_state=268 ,shuffle=True)\n",
    "print(X_train.shape)\n",
    "print(y_train.shape)\n",
    "print(X_test.shape)\n",
    "print(y_test.shape)"
   ],
   "metadata": {
    "collapsed": false,
    "pycharm": {
     "name": "#%%\n"
    }
   }
  },
  {
   "cell_type": "markdown",
   "source": [
    "### Hyperparameter tuning\n",
    "Since we don't know which is the best kernel to use for SVC, we will be using the GridSearch function and determine\n",
    "the best kernel based on the F1 score from a 5-fold cross-validation"
   ],
   "metadata": {
    "collapsed": false
   }
  },
  {
   "cell_type": "code",
   "execution_count": 46,
   "outputs": [
    {
     "data": {
      "text/plain": "{'mean_fit_time': array([0.01576405, 0.03020544, 0.01924028, 0.01495042]),\n 'std_fit_time': array([0.00222526, 0.00147873, 0.0007639 , 0.00140191]),\n 'mean_score_time': array([0.00199199, 0.0029933 , 0.0017591 , 0.00199885]),\n 'std_score_time': array([6.32048022e-04, 1.96439548e-05, 7.30866520e-04, 8.33224328e-06]),\n 'param_kernel': masked_array(data=['linear', 'rbf', 'poly', 'sigmoid'],\n              mask=[False, False, False, False],\n        fill_value='?',\n             dtype=object),\n 'params': [{'kernel': 'linear'},\n  {'kernel': 'rbf'},\n  {'kernel': 'poly'},\n  {'kernel': 'sigmoid'}],\n 'split0_test_score': array([0., 0., 0., 0.]),\n 'split1_test_score': array([0., 0., 0., 0.]),\n 'split2_test_score': array([0.        , 0.        , 0.14285714, 0.        ]),\n 'split3_test_score': array([0., 0., 0., 0.]),\n 'split4_test_score': array([0., 0., 0., 0.]),\n 'mean_test_score': array([0.        , 0.        , 0.02857143, 0.        ]),\n 'std_test_score': array([0.        , 0.        , 0.05714286, 0.        ]),\n 'rank_test_score': array([2, 2, 1, 2])}"
     },
     "execution_count": 46,
     "metadata": {},
     "output_type": "execute_result"
    }
   ],
   "source": [
    "from sklearn.svm import SVC\n",
    "\n",
    "param_grid = [{'kernel': ['linear', 'rbf', 'poly', 'sigmoid']}]\n",
    "gs = GridSearchCV(SVC(probability=True, gamma='scale'), param_grid, cv=5, scoring='f1')\n",
    "gs.fit(X_train, y_train)\n",
    "gs.cv_results_"
   ],
   "metadata": {
    "collapsed": false,
    "pycharm": {
     "name": "#%%\n"
    }
   }
  },
  {
   "cell_type": "code",
   "execution_count": 47,
   "outputs": [
    {
     "data": {
      "text/plain": "{'kernel': 'poly'}"
     },
     "execution_count": 47,
     "metadata": {},
     "output_type": "execute_result"
    }
   ],
   "source": [
    "# best kernel\n",
    "gs.best_params_"
   ],
   "metadata": {
    "collapsed": false,
    "pycharm": {
     "name": "#%%\n"
    }
   }
  },
  {
   "cell_type": "code",
   "execution_count": 48,
   "outputs": [
    {
     "name": "stdout",
     "output_type": "stream",
     "text": [
      "0.5057613168724279\n"
     ]
    }
   ],
   "source": [
    "y_pred = gs.predict_proba(X_test)\n",
    "fpr, tpr, thresholds = metrics.roc_curve(y_test, y_pred[:,1], pos_label=1)\n",
    "print(metrics.auc(fpr, tpr))"
   ],
   "metadata": {
    "collapsed": false,
    "pycharm": {
     "name": "#%%\n"
    }
   }
  },
  {
   "cell_type": "code",
   "execution_count": 49,
   "outputs": [
    {
     "data": {
      "text/plain": "{'fit_time': array([0.13463926, 0.12865448, 0.11868382, 0.11968374, 0.1396265 ]),\n 'score_time': array([0.01496029, 0.01495934, 0.01296425, 0.0129621 , 0.01795316]),\n 'test_f1': array([0.07142857, 0.13333333, 0.        , 0.37037037, 0.        ]),\n 'train_f1': array([0.46875   , 0.45977011, 0.53488372, 0.41860465, 0.46666667]),\n 'test_precision': array([0.05882353, 0.25      , 0.        , 0.3125    , 0.        ]),\n 'train_precision': array([0.75      , 0.46511628, 0.54761905, 0.42857143, 0.45652174]),\n 'test_recall': array([0.09090909, 0.09090909, 0.        , 0.45454545, 0.        ]),\n 'train_recall': array([0.34090909, 0.45454545, 0.52272727, 0.40909091, 0.47727273]),\n 'test_roc_auc': array([0.52907962, 0.54206663, 0.33258046, 0.646875  , 0.43068182]),\n 'train_roc_auc': array([0.83689111, 0.81044676, 0.84701572, 0.82426128, 0.81208469]),\n 'test_balanced_accuracy': array([0.4957651 , 0.53613778, 0.47826087, 0.69289773, 0.471875  ]),\n 'train_balanced_accuracy': array([0.66656046, 0.70935995, 0.74656613, 0.68588294, 0.71919624])}"
     },
     "execution_count": 49,
     "metadata": {},
     "output_type": "execute_result"
    }
   ],
   "source": [
    "clf = SVC(probability=True, kernel='poly',class_weight='balanced')\n",
    "clf.fit(X,y)\n",
    "y_pred = clf.predict(X_test)\n",
    "perf_clf = cross_validate(clf, X, y, cv=5, scoring=['f1', 'precision', 'recall', 'roc_auc', 'balanced_accuracy'], return_train_score=True)\n",
    "perf_clf"
   ],
   "metadata": {
    "collapsed": false,
    "pycharm": {
     "name": "#%%\n"
    }
   }
  },
  {
   "cell_type": "code",
   "execution_count": 53,
   "outputs": [
    {
     "name": "stdout",
     "output_type": "stream",
     "text": [
      "\n",
      "auc: 0.5057613168724279,\n",
      "f1 score: 0.3571428571428571,\n",
      "precision: 0.38461538461538464,\n",
      "recall: 0.3333333333333333,\n",
      "balanced accuracy 0.6502057613168725\n",
      "\n"
     ]
    }
   ],
   "source": [
    "print('''\n",
    "auc: {},\n",
    "f1 score: {},\n",
    "precision: {},\n",
    "recall: {},\n",
    "balanced accuracy {}\n",
    "'''.format(metrics.auc(fpr, tpr),\n",
    "      metrics.f1_score(y_test,y_pred),\n",
    "      metrics.precision_score(y_test,y_pred),\n",
    "      metrics.recall_score(y_test,y_pred),\n",
    "      metrics.balanced_accuracy_score(y_test,y_pred)))\n"
   ],
   "metadata": {
    "collapsed": false,
    "pycharm": {
     "name": "#%%\n"
    }
   }
  }
 ],
 "metadata": {
  "kernelspec": {
   "name": "pycharm-e2177b6f",
   "language": "python",
   "display_name": "PyCharm (Homework)"
  },
  "language_info": {
   "codemirror_mode": {
    "name": "ipython",
    "version": 2
   },
   "file_extension": ".py",
   "mimetype": "text/x-python",
   "name": "python",
   "nbconvert_exporter": "python",
   "pygments_lexer": "ipython2",
   "version": "2.7.6"
  }
 },
 "nbformat": 4,
 "nbformat_minor": 0
}