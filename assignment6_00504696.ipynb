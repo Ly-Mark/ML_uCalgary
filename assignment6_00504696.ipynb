{
 "cells": [
  {
   "cell_type": "markdown",
   "metadata": {
    "collapsed": true,
    "pycharm": {
     "name": "#%% md\n"
    }
   },
   "source": [
    "# Data 622\n",
    "## Assignment 5 - FeedForward Neural Network\n",
    "Mark Ly\n",
    "Student ID: 00504696"
   ]
  },
  {
   "cell_type": "code",
   "execution_count": 314,
   "outputs": [],
   "source": [
    "import numpy as np\n",
    "import pandas as pd\n",
    "import tensorflow as tf\n",
    "\n",
    "from sklearn.datasets import load_diabetes\n",
    "from sklearn.model_selection import train_test_split\n",
    "from sklearn import metrics\n",
    "from sklearn.impute import SimpleImputer\n",
    "from sklearn import preprocessing\n",
    "import matplotlib.pyplot as plt"
   ],
   "metadata": {
    "collapsed": false,
    "pycharm": {
     "name": "#%%\n"
    }
   }
  },
  {
   "cell_type": "markdown",
   "source": [
    "# Preparing dataset\n",
    "After loading the dataset from UCI Machine Learning Heart Disease Data, we need to perform some data wrangling. There\n",
    " are 13 features and the last feature is the target variable with 5 classes from 0-4\n",
    " * Impute the missing data with the mean\n",
    " * one-hot encode categorical features\n",
    " * Scale each continuous feature with zero mean and unit variance\n",
    " * one-hot encode target variable using _keras.utils.to categorical_\n",
    " * Randomly split data into 70% training and 30% test.\n",
    "\n",
    "To minimize data leakage, we will first one hot encode all categorical data before splitting. Afterwards we will\n",
    "impute the missing variables for both X train and X test with the mean before the scaling the continuous features."
   ],
   "metadata": {
    "collapsed": false
   }
  },
  {
   "cell_type": "code",
   "execution_count": 315,
   "outputs": [
    {
     "data": {
      "text/plain": "              age         sex          cp    trestbps        chol         fbs  \\\ncount  303.000000  303.000000  303.000000  303.000000  303.000000  303.000000   \nmean    54.438944    0.679868    3.158416  131.689769  246.693069    0.148515   \nstd      9.038662    0.467299    0.960126   17.599748   51.776918    0.356198   \nmin     29.000000    0.000000    1.000000   94.000000  126.000000    0.000000   \n25%     48.000000    0.000000    3.000000  120.000000  211.000000    0.000000   \n50%     56.000000    1.000000    3.000000  130.000000  241.000000    0.000000   \n75%     61.000000    1.000000    4.000000  140.000000  275.000000    0.000000   \nmax     77.000000    1.000000    4.000000  200.000000  564.000000    1.000000   \n\n          restecg     thalach       exang     oldpeak       slope          ca  \\\ncount  303.000000  303.000000  303.000000  303.000000  303.000000  299.000000   \nmean     0.990099  149.607261    0.326733    1.039604    1.600660    0.672241   \nstd      0.994971   22.875003    0.469794    1.161075    0.616226    0.937438   \nmin      0.000000   71.000000    0.000000    0.000000    1.000000    0.000000   \n25%      0.000000  133.500000    0.000000    0.000000    1.000000    0.000000   \n50%      1.000000  153.000000    0.000000    0.800000    2.000000    0.000000   \n75%      2.000000  166.000000    1.000000    1.600000    2.000000    1.000000   \nmax      2.000000  202.000000    1.000000    6.200000    3.000000    3.000000   \n\n             thal         num  \ncount  301.000000  303.000000  \nmean     4.734219    0.937294  \nstd      1.939706    1.228536  \nmin      3.000000    0.000000  \n25%      3.000000    0.000000  \n50%      3.000000    0.000000  \n75%      7.000000    2.000000  \nmax      7.000000    4.000000  ",
      "text/html": "<div>\n<style scoped>\n    .dataframe tbody tr th:only-of-type {\n        vertical-align: middle;\n    }\n\n    .dataframe tbody tr th {\n        vertical-align: top;\n    }\n\n    .dataframe thead th {\n        text-align: right;\n    }\n</style>\n<table border=\"1\" class=\"dataframe\">\n  <thead>\n    <tr style=\"text-align: right;\">\n      <th></th>\n      <th>age</th>\n      <th>sex</th>\n      <th>cp</th>\n      <th>trestbps</th>\n      <th>chol</th>\n      <th>fbs</th>\n      <th>restecg</th>\n      <th>thalach</th>\n      <th>exang</th>\n      <th>oldpeak</th>\n      <th>slope</th>\n      <th>ca</th>\n      <th>thal</th>\n      <th>num</th>\n    </tr>\n  </thead>\n  <tbody>\n    <tr>\n      <th>count</th>\n      <td>303.000000</td>\n      <td>303.000000</td>\n      <td>303.000000</td>\n      <td>303.000000</td>\n      <td>303.000000</td>\n      <td>303.000000</td>\n      <td>303.000000</td>\n      <td>303.000000</td>\n      <td>303.000000</td>\n      <td>303.000000</td>\n      <td>303.000000</td>\n      <td>299.000000</td>\n      <td>301.000000</td>\n      <td>303.000000</td>\n    </tr>\n    <tr>\n      <th>mean</th>\n      <td>54.438944</td>\n      <td>0.679868</td>\n      <td>3.158416</td>\n      <td>131.689769</td>\n      <td>246.693069</td>\n      <td>0.148515</td>\n      <td>0.990099</td>\n      <td>149.607261</td>\n      <td>0.326733</td>\n      <td>1.039604</td>\n      <td>1.600660</td>\n      <td>0.672241</td>\n      <td>4.734219</td>\n      <td>0.937294</td>\n    </tr>\n    <tr>\n      <th>std</th>\n      <td>9.038662</td>\n      <td>0.467299</td>\n      <td>0.960126</td>\n      <td>17.599748</td>\n      <td>51.776918</td>\n      <td>0.356198</td>\n      <td>0.994971</td>\n      <td>22.875003</td>\n      <td>0.469794</td>\n      <td>1.161075</td>\n      <td>0.616226</td>\n      <td>0.937438</td>\n      <td>1.939706</td>\n      <td>1.228536</td>\n    </tr>\n    <tr>\n      <th>min</th>\n      <td>29.000000</td>\n      <td>0.000000</td>\n      <td>1.000000</td>\n      <td>94.000000</td>\n      <td>126.000000</td>\n      <td>0.000000</td>\n      <td>0.000000</td>\n      <td>71.000000</td>\n      <td>0.000000</td>\n      <td>0.000000</td>\n      <td>1.000000</td>\n      <td>0.000000</td>\n      <td>3.000000</td>\n      <td>0.000000</td>\n    </tr>\n    <tr>\n      <th>25%</th>\n      <td>48.000000</td>\n      <td>0.000000</td>\n      <td>3.000000</td>\n      <td>120.000000</td>\n      <td>211.000000</td>\n      <td>0.000000</td>\n      <td>0.000000</td>\n      <td>133.500000</td>\n      <td>0.000000</td>\n      <td>0.000000</td>\n      <td>1.000000</td>\n      <td>0.000000</td>\n      <td>3.000000</td>\n      <td>0.000000</td>\n    </tr>\n    <tr>\n      <th>50%</th>\n      <td>56.000000</td>\n      <td>1.000000</td>\n      <td>3.000000</td>\n      <td>130.000000</td>\n      <td>241.000000</td>\n      <td>0.000000</td>\n      <td>1.000000</td>\n      <td>153.000000</td>\n      <td>0.000000</td>\n      <td>0.800000</td>\n      <td>2.000000</td>\n      <td>0.000000</td>\n      <td>3.000000</td>\n      <td>0.000000</td>\n    </tr>\n    <tr>\n      <th>75%</th>\n      <td>61.000000</td>\n      <td>1.000000</td>\n      <td>4.000000</td>\n      <td>140.000000</td>\n      <td>275.000000</td>\n      <td>0.000000</td>\n      <td>2.000000</td>\n      <td>166.000000</td>\n      <td>1.000000</td>\n      <td>1.600000</td>\n      <td>2.000000</td>\n      <td>1.000000</td>\n      <td>7.000000</td>\n      <td>2.000000</td>\n    </tr>\n    <tr>\n      <th>max</th>\n      <td>77.000000</td>\n      <td>1.000000</td>\n      <td>4.000000</td>\n      <td>200.000000</td>\n      <td>564.000000</td>\n      <td>1.000000</td>\n      <td>2.000000</td>\n      <td>202.000000</td>\n      <td>1.000000</td>\n      <td>6.200000</td>\n      <td>3.000000</td>\n      <td>3.000000</td>\n      <td>7.000000</td>\n      <td>4.000000</td>\n    </tr>\n  </tbody>\n</table>\n</div>"
     },
     "execution_count": 315,
     "metadata": {},
     "output_type": "execute_result"
    }
   ],
   "source": [
    "df_hd = pd.read_csv(\"processed.cleveland.data\", header=None, na_values=\"?\")\n",
    "clev_cols = {0:'age',1:'sex',2:'cp',3:'trestbps',4:'chol',5:'fbs',6:'restecg',7:'thalach',8:'exang',\n",
    "              9:'oldpeak',10:'slope',11:'ca',12:'thal',13:'num'}\n",
    "df_hd_named = df_hd.rename(columns=clev_cols)\n",
    "df_hd_named.describe()"
   ],
   "metadata": {
    "collapsed": false,
    "pycharm": {
     "name": "#%%\n"
    }
   }
  },
  {
   "cell_type": "code",
   "execution_count": 316,
   "outputs": [
    {
     "data": {
      "text/plain": "1.0    142\n2.0    140\n3.0     21\nName: slope, dtype: int64"
     },
     "execution_count": 316,
     "metadata": {},
     "output_type": "execute_result"
    }
   ],
   "source": [
    "df_hd_named.slope.value_counts()"
   ],
   "metadata": {
    "collapsed": false,
    "pycharm": {
     "name": "#%%\n"
    }
   }
  },
  {
   "cell_type": "code",
   "execution_count": 317,
   "outputs": [
    {
     "name": "stderr",
     "output_type": "stream",
     "text": [
      "C:\\Users\\Mark\\anaconda3\\envs\\Homework\\lib\\site-packages\\sklearn\\utils\\deprecation.py:87: FutureWarning: Function get_feature_names is deprecated; get_feature_names is deprecated in 1.0 and will be removed in 1.2. Please use get_feature_names_out instead.\n",
      "  warnings.warn(msg, category=FutureWarning)\n"
     ]
    },
    {
     "data": {
      "text/plain": "Index(['age', 'sex', 'trestbps', 'chol', 'fbs', 'thalach', 'exang', 'oldpeak',\n       'slope', 'ca', 'thal', 'num', 'cp_1.0', 'cp_2.0', 'cp_3.0', 'cp_4.0',\n       'restecg_0.0', 'restecg_1.0', 'restecg_2.0'],\n      dtype='object')"
     },
     "execution_count": 317,
     "metadata": {},
     "output_type": "execute_result"
    }
   ],
   "source": [
    "cat_var = ['cp','restecg']\n",
    "enc = preprocessing.OneHotEncoder(categories='auto')\n",
    "df_hd_named_enc = pd.DataFrame(enc.fit_transform(df_hd_named[cat_var]).toarray())\n",
    "df_hd_named_enc.columns = enc.get_feature_names(cat_var)\n",
    "\n",
    "df_ohe = pd.concat([df_hd_named, df_hd_named_enc], axis=1)\n",
    "df_ohe.drop(cat_var,axis=1,inplace=True)\n",
    "df_ohe.columns"
   ],
   "metadata": {
    "collapsed": false,
    "pycharm": {
     "name": "#%%\n"
    }
   }
  },
  {
   "cell_type": "code",
   "execution_count": 268,
   "outputs": [
    {
     "data": {
      "text/plain": "age            0\nsex            0\ntrestbps       0\nchol           0\nfbs            0\nthalach        0\nexang          0\noldpeak        0\nslope          0\nca             4\nthal           2\nnum            0\ncp_1.0         0\ncp_2.0         0\ncp_3.0         0\ncp_4.0         0\nrestecg_0.0    0\nrestecg_1.0    0\nrestecg_2.0    0\ndtype: int64"
     },
     "execution_count": 268,
     "metadata": {},
     "output_type": "execute_result"
    }
   ],
   "source": [
    "df_ohe.isnull().sum()"
   ],
   "metadata": {
    "collapsed": false,
    "pycharm": {
     "name": "#%%\n"
    }
   }
  },
  {
   "cell_type": "code",
   "execution_count": 318,
   "outputs": [],
   "source": [
    "from tensorflow.keras.utils import to_categorical\n",
    "y = df_ohe['num'].values\n",
    "y_imp = to_categorical(y, num_classes=5,dtype=np.float32)\n",
    "X = df_ohe.drop(['num'],axis=1).values"
   ],
   "metadata": {
    "collapsed": false,
    "pycharm": {
     "name": "#%%\n"
    }
   }
  },
  {
   "cell_type": "code",
   "execution_count": 319,
   "outputs": [
    {
     "name": "stdout",
     "output_type": "stream",
     "text": [
      "(212, 18)\n",
      "(212, 5)\n",
      "(91, 18)\n",
      "(91, 5)\n"
     ]
    }
   ],
   "source": [
    "X_train, X_test, y_train, y_test = train_test_split(X, y_imp, test_size=0.3, random_state=5)\n",
    "\n",
    "print(X_train.shape)\n",
    "print(y_train.shape)\n",
    "print(X_test.shape)\n",
    "print(y_test.shape)"
   ],
   "metadata": {
    "collapsed": false,
    "pycharm": {
     "name": "#%%\n"
    }
   }
  },
  {
   "cell_type": "code",
   "execution_count": 320,
   "outputs": [],
   "source": [
    "imp = SimpleImputer(missing_values=np.nan, strategy='mean')\n",
    "X_train_imp = imp.fit_transform(X_train)\n",
    "X_test_imp = imp.fit_transform(X_test)"
   ],
   "metadata": {
    "collapsed": false,
    "pycharm": {
     "name": "#%%\n"
    }
   }
  },
  {
   "cell_type": "code",
   "execution_count": 321,
   "outputs": [],
   "source": [
    "scaler = preprocessing.StandardScaler()\n",
    "scaler.fit(X_train_imp)\n",
    "X_train_imp_scale = scaler.transform(X_train_imp)"
   ],
   "metadata": {
    "collapsed": false,
    "pycharm": {
     "name": "#%%\n"
    }
   }
  },
  {
   "cell_type": "code",
   "execution_count": 322,
   "outputs": [],
   "source": [
    "scaler.fit(y_train)\n",
    "y_train_imp_scale = scaler.transform(y_train)"
   ],
   "metadata": {
    "collapsed": false,
    "pycharm": {
     "name": "#%%\n"
    }
   }
  },
  {
   "cell_type": "code",
   "execution_count": 323,
   "outputs": [],
   "source": [
    "scaler.fit(X_test_imp)\n",
    "X_test_imp_scale = scaler.transform(X_test_imp)"
   ],
   "metadata": {
    "collapsed": false,
    "pycharm": {
     "name": "#%%\n"
    }
   }
  },
  {
   "cell_type": "code",
   "execution_count": 324,
   "outputs": [],
   "source": [
    "scaler.fit(y_test)\n",
    "y_test_imp_scale = scaler.transform(y_test)"
   ],
   "metadata": {
    "collapsed": false,
    "pycharm": {
     "name": "#%%\n"
    }
   }
  },
  {
   "cell_type": "markdown",
   "source": [
    "# FeedForward neural network\n",
    "We will hypertune the number of neurons in the hidden layer to find the network with the best number of neurons.\n",
    "- 5-50 inclusive with a step 5\n",
    "\n",
    "for the activation function for the hidden and output layers we will use:\n",
    "- hidden = _ReLu_\n",
    "- output = _softmax_\n",
    "\n",
    "for model compile we will use:\n",
    "- optimizer = _adam_\n",
    "- loss = _categorical crossentropy_\n",
    "- metrics = _accuracy_\n",
    "\n",
    "Finally, we will train the network with\n",
    "- _batch size_ = 32\n",
    "- _validation split_ = 0.2\n",
    "- _epochs_ = 25"
   ],
   "metadata": {
    "collapsed": false
   }
  },
  {
   "cell_type": "code",
   "execution_count": 310,
   "outputs": [
    {
     "name": "stdout",
     "output_type": "stream",
     "text": [
      "Epoch 1/25\n",
      "6/6 [==============================] - 1s 83ms/step - loss: 0.2859 - accuracy: 0.1598 - val_loss: 0.1788 - val_accuracy: 0.1395\b\b\b\b\b\b\b\b\b\b\b\b\b\b\b\b\b\b\b\b\b\b\b\b\b\b\b\b\b\b\b\b\b\n",
      "Epoch 2/25\n",
      "6/6 [==============================] - 0s 18ms/step - loss: 0.2517 - accuracy: 0.1361 - val_loss: 0.1482 - val_accuracy: 0.1395\b\b\b\b\b\b\b\b\b\b\b\b\b\b\b\b\b\b\b\b\b\b\b\b\b\b\b\b\b\b\b\b\b\n",
      "Epoch 3/25\n",
      "6/6 [==============================] - 0s 12ms/step - loss: 0.2206 - accuracy: 0.1302 - val_loss: 0.1256 - val_accuracy: 0.1395\b\b\b\b\b\b\b\b\b\b\b\b\b\b\b\b\b\b\b\b\b\b\b\b\b\b\b\b\b\b\b\b\b\b\b\n",
      "Epoch 4/25\n",
      "6/6 [==============================] - 0s 18ms/step - loss: 0.1959 - accuracy: 0.1302 - val_loss: 0.1024 - val_accuracy: 0.1395\b\b\b\b\b\b\b\b\b\b\b\b\b\b\b\b\b\b\b\b\b\b\b\b\b\b\b\b\b\b\b\b\b\n",
      "Epoch 5/25\n",
      "6/6 [==============================] - 0s 12ms/step - loss: 0.1692 - accuracy: 0.1420 - val_loss: 0.0800 - val_accuracy: 0.1395\b\b\b\b\b\b\b\b\b\b\b\b\b\b\b\b\b\b\b\b\b\b\b\b\b\b\b\b\b\b\b\b\b\n",
      "Epoch 6/25\n",
      "6/6 [==============================] - 0s 13ms/step - loss: 0.1431 - accuracy: 0.1538 - val_loss: 0.0595 - val_accuracy: 0.1395\b\b\b\b\b\b\b\b\b\b\b\b\b\b\b\b\b\b\b\b\b\b\b\b\b\b\b\b\b\b\b\b\b\b\b\n",
      "Epoch 7/25\n",
      "6/6 [==============================] - 0s 13ms/step - loss: 0.1151 - accuracy: 0.1657 - val_loss: 0.0418 - val_accuracy: 0.1395\b\b\b\b\b\b\b\b\b\b\b\b\b\b\b\b\b\b\b\b\b\b\b\b\b\b\b\b\b\b\b\b\b\b\b\n",
      "Epoch 8/25\n",
      "6/6 [==============================] - 0s 28ms/step - loss: 0.0892 - accuracy: 0.1598 - val_loss: 0.0215 - val_accuracy: 0.1395\b\b\b\b\b\b\b\b\b\b\b\b\b\b\b\b\b\b\b\b\b\b\b\b\b\b\b\b\b\b\b\b\b\b\b\n",
      "Epoch 9/25\n",
      "6/6 [==============================] - 0s 22ms/step - loss: 0.0660 - accuracy: 0.1598 - val_loss: 0.0023 - val_accuracy: 0.1395\b\b\b\b\b\b\b\b\b\b\b\b\b\b\b\b\b\b\b\b\b\b\b\b\b\b\b\b\b\b\b\b\b\b\b\n",
      "Epoch 10/25\n",
      "6/6 [==============================] - 0s 12ms/step - loss: 0.0418 - accuracy: 0.1657 - val_loss: -0.0163 - val_accuracy: 0.1395\b\b\b\b\b\b\b\b\b\b\b\b\b\b\b\b\b\b\b\b\b\b\b\b\b\b\b\b\b\b\b\b\b\b\n",
      "Epoch 11/25\n",
      "6/6 [==============================] - 0s 16ms/step - loss: 0.0204 - accuracy: 0.1716 - val_loss: -0.0374 - val_accuracy: 0.1395\b\b\b\b\b\b\b\b\b\b\b\b\b\b\b\b\b\b\b\b\b\b\b\b\b\b\b\b\b\b\b\b\n",
      "Epoch 12/25\n",
      "6/6 [==============================] - 0s 16ms/step - loss: -0.0031 - accuracy: 0.1716 - val_loss: -0.0544 - val_accuracy: 0.1395\b\b\b\b\b\b\b\b\b\b\b\b\b\b\b\b\b\b\b\b\b\b\b\b\b\b\b\b\b\b\b\b\b\n",
      "Epoch 13/25\n",
      "6/6 [==============================] - 0s 21ms/step - loss: -0.0215 - accuracy: 0.1716 - val_loss: -0.0694 - val_accuracy: 0.1395\b\b\b\b\b\b\b\b\b\b\b\b\b\b\b\b\b\b\b\b\b\b\b\b\b\b\b\b\b\b\b\b\b\n",
      "Epoch 14/25\n",
      "6/6 [==============================] - ETA: 0s - loss: -0.1734 - accuracy: 0.1250\b\b\b\b\b\b\b\b\b\b\b\b\b\b\b\b\b\b\b\b\b\b\b\b\b\b\b\b\b\b\b\b\b\b\b\b\b\b\b\b\b\b\b\b\b\b\b\b\b\b\b\b\b\b\b\b\b\b\b\b\b\b\b\b\b\b\b\b\b\b\b\b\b\b\b\b\b\b\b\b\b - 0s 14ms/step - loss: -0.0396 - accuracy: 0.1657 - val_loss: -0.0823 - val_accuracy: 0.1395\n",
      "Epoch 15/25\n",
      "6/6 [==============================] - 0s 13ms/step - loss: -0.0574 - accuracy: 0.1657 - val_loss: -0.0952 - val_accuracy: 0.1163\b\b\b\b\b\b\b\b\b\b\b\b\b\b\b\b\b\b\b\b\b\b\b\b\b\b\b\b\b\b\b\n",
      "Epoch 16/25\n",
      "6/6 [==============================] - 0s 19ms/step - loss: -0.0749 - accuracy: 0.1657 - val_loss: -0.1070 - val_accuracy: 0.1163\b\b\b\b\b\b\b\b\b\b\b\b\b\b\b\b\b\b\b\b\b\b\b\b\b\b\b\b\b\b\b\n",
      "Epoch 17/25\n",
      "6/6 [==============================] - 0s 15ms/step - loss: -0.0914 - accuracy: 0.1716 - val_loss: -0.1173 - val_accuracy: 0.1163\b\b\b\b\b\b\b\b\b\b\b\b\b\b\b\b\b\b\b\b\b\b\b\b\b\b\b\b\b\b\b\b\b\n",
      "Epoch 18/25\n",
      "6/6 [==============================] - 0s 15ms/step - loss: -0.1073 - accuracy: 0.1716 - val_loss: -0.1277 - val_accuracy: 0.1163\b\b\b\b\b\b\b\b\b\b\b\b\b\b\b\b\b\b\b\b\b\b\b\b\b\b\b\b\b\b\b\b\b\n",
      "Epoch 19/25\n",
      "6/6 [==============================] - 0s 13ms/step - loss: -0.1241 - accuracy: 0.1775 - val_loss: -0.1388 - val_accuracy: 0.1163\b\b\b\b\b\b\b\b\b\b\b\b\b\b\b\b\b\b\b\b\b\b\b\b\b\b\b\b\b\b\b\b\b\n",
      "Epoch 20/25\n",
      "6/6 [==============================] - 0s 15ms/step - loss: -0.1397 - accuracy: 0.1775 - val_loss: -0.1497 - val_accuracy: 0.1163\b\b\b\b\b\b\b\b\b\b\b\b\b\b\b\b\b\b\b\b\b\b\b\b\b\b\b\b\b\b\b\b\b\n",
      "Epoch 21/25\n",
      "6/6 [==============================] - 0s 23ms/step - loss: -0.1546 - accuracy: 0.1834 - val_loss: -0.1628 - val_accuracy: 0.1395\b\b\b\b\b\b\b\b\b\b\b\b\b\b\b\b\b\b\b\b\b\b\b\b\b\b\b\b\b\b\b\b\b\n",
      "Epoch 22/25\n",
      "6/6 [==============================] - 0s 19ms/step - loss: -0.1706 - accuracy: 0.1775 - val_loss: -0.1740 - val_accuracy: 0.1395\b\b\b\b\b\b\b\b\b\b\b\b\b\b\b\b\b\b\b\b\b\b\b\b\b\b\b\b\b\b\b\b\b\n",
      "Epoch 23/25\n",
      "6/6 [==============================] - 0s 16ms/step - loss: -0.1846 - accuracy: 0.1834 - val_loss: -0.1841 - val_accuracy: 0.1395\b\b\b\b\b\b\b\b\b\b\b\b\b\b\b\b\b\b\b\b\b\b\b\b\b\b\b\b\b\b\b\b\b\n",
      "Epoch 24/25\n",
      "6/6 [==============================] - 0s 19ms/step - loss: -0.1966 - accuracy: 0.1893 - val_loss: -0.1943 - val_accuracy: 0.1395\b\b\b\b\b\b\b\b\b\b\b\b\b\b\b\b\b\b\b\b\b\b\b\b\b\b\b\b\b\b\b\n",
      "Epoch 25/25\n",
      "6/6 [==============================] - 0s 16ms/step - loss: -0.2081 - accuracy: 0.1893 - val_loss: -0.2047 - val_accuracy: 0.1395\b\b\b\b\b\b\b\b\b\b\b\b\b\b\b\b\b\b\b\b\b\b\b\b\b\b\b\b\b\b\b\b\b\n",
      "3/3 - 0s - loss: 0.0014 - accuracy: 0.2088\n",
      "Epoch 1/25\n",
      "6/6 [==============================] - 1s 64ms/step - loss: -0.2099 - accuracy: 0.1834 - val_loss: 0.3077 - val_accuracy: 0.0930\b\b\b\b\b\b\b\b\b\b\b\b\b\b\b\b\b\b\b\b\b\b\b\b\b\b\b\b\b\b\b\b\b\b\n",
      "Epoch 2/25\n",
      "6/6 [==============================] - 0s 11ms/step - loss: -0.2558 - accuracy: 0.1893 - val_loss: 0.2807 - val_accuracy: 0.0698\b\b\b\b\b\b\b\b\b\b\b\b\b\b\b\b\b\b\b\b\b\b\b\b\b\b\b\b\b\b\b\b\b\b\n",
      "Epoch 3/25\n",
      "6/6 [==============================] - 0s 10ms/step - loss: -0.2987 - accuracy: 0.1893 - val_loss: 0.2477 - val_accuracy: 0.0698\b\b\b\b\b\b\b\b\b\b\b\b\b\b\b\b\b\b\b\b\b\b\b\b\b\b\b\b\b\b\b\b\b\b\n",
      "Epoch 4/25\n",
      "6/6 [==============================] - 0s 12ms/step - loss: -0.3361 - accuracy: 0.1953 - val_loss: 0.2155 - val_accuracy: 0.0698\b\b\b\b\b\b\b\b\b\b\b\b\b\b\b\b\b\b\b\b\b\b\b\b\b\b\b\b\b\b\b\b\b\b\n",
      "Epoch 5/25\n",
      "6/6 [==============================] - 0s 13ms/step - loss: -0.3740 - accuracy: 0.2071 - val_loss: 0.1861 - val_accuracy: 0.0698\b\b\b\b\b\b\b\b\b\b\b\b\b\b\b\b\b\b\b\b\b\b\b\b\b\b\b\b\b\b\b\b\b\b\n",
      "Epoch 6/25\n",
      "6/6 [==============================] - 0s 12ms/step - loss: -0.4114 - accuracy: 0.2130 - val_loss: 0.1603 - val_accuracy: 0.0698\b\b\b\b\b\b\b\b\b\b\b\b\b\b\b\b\b\b\b\b\b\b\b\b\b\b\b\b\b\b\b\b\b\b\n",
      "Epoch 7/25\n",
      "6/6 [==============================] - 0s 12ms/step - loss: -0.4479 - accuracy: 0.2249 - val_loss: 0.1319 - val_accuracy: 0.0698\b\b\b\b\b\b\b\b\b\b\b\b\b\b\b\b\b\b\b\b\b\b\b\b\b\b\b\b\b\b\b\b\b\b\n",
      "Epoch 8/25\n",
      "6/6 [==============================] - 0s 11ms/step - loss: -0.4834 - accuracy: 0.2249 - val_loss: 0.1029 - val_accuracy: 0.0698\b\b\b\b\b\b\b\b\b\b\b\b\b\b\b\b\b\b\b\b\b\b\b\b\b\b\b\b\b\b\b\b\b\b\n",
      "Epoch 9/25\n",
      "6/6 [==============================] - ETA: 0s - loss: -0.4219 - accuracy: 0.1875\b\b\b\b\b\b\b\b\b\b\b\b\b\b\b\b\b\b\b\b\b\b\b\b\b\b\b\b\b\b\b\b\b\b\b\b\b\b\b\b\b\b\b\b\b\b\b\b\b\b\b\b\b\b\b\b\b\b\b\b\b\b\b\b\b\b\b\b\b\b\b\b\b\b\b\b\b\b\b\b\b - 0s 12ms/step - loss: -0.5206 - accuracy: 0.2367 - val_loss: 0.0738 - val_accuracy: 0.0698\n",
      "Epoch 10/25\n",
      "6/6 [==============================] - 0s 12ms/step - loss: -0.5569 - accuracy: 0.2426 - val_loss: 0.0463 - val_accuracy: 0.0698\b\b\b\b\b\b\b\b\b\b\b\b\b\b\b\b\b\b\b\b\b\b\b\b\b\b\b\b\b\b\b\b\b\b\n",
      "Epoch 11/25\n",
      "6/6 [==============================] - 0s 11ms/step - loss: -0.5929 - accuracy: 0.2485 - val_loss: 0.0169 - val_accuracy: 0.0698\b\b\b\b\b\b\b\b\b\b\b\b\b\b\b\b\b\b\b\b\b\b\b\b\b\b\b\b\b\b\b\b\b\b\n",
      "Epoch 12/25\n",
      "6/6 [==============================] - 0s 11ms/step - loss: -0.6323 - accuracy: 0.2604 - val_loss: -0.0139 - val_accuracy: 0.0698\b\b\b\b\b\b\b\b\b\b\b\b\b\b\b\b\b\b\b\b\b\b\b\b\b\b\b\b\b\b\b\b\b\n",
      "Epoch 13/25\n",
      "6/6 [==============================] - 0s 13ms/step - loss: -0.6728 - accuracy: 0.2663 - val_loss: -0.0442 - val_accuracy: 0.0698\b\b\b\b\b\b\b\b\b\b\b\b\b\b\b\b\b\b\b\b\b\b\b\b\b\b\b\b\b\b\b\b\b\n",
      "Epoch 14/25\n",
      "6/6 [==============================] - 0s 12ms/step - loss: -0.7119 - accuracy: 0.2781 - val_loss: -0.0767 - val_accuracy: 0.0698\b\b\b\b\b\b\b\b\b\b\b\b\b\b\b\b\b\b\b\b\b\b\b\b\b\b\b\b\b\b\b\b\b\b\b\b\b\b\b\b\b\n",
      "Epoch 15/25\n",
      "6/6 [==============================] - 0s 12ms/step - loss: -0.7543 - accuracy: 0.2899 - val_loss: -0.1100 - val_accuracy: 0.0930\b\b\b\b\b\b\b\b\b\b\b\b\b\b\b\b\b\b\b\b\b\b\b\b\b\b\b\b\b\b\b\b\b\n",
      "Epoch 16/25\n",
      "6/6 [==============================] - 0s 11ms/step - loss: -0.7973 - accuracy: 0.3018 - val_loss: -0.1463 - val_accuracy: 0.1163\b\b\b\b\b\b\b\b\b\b\b\b\b\b\b\b\b\b\b\b\b\b\b\b\b\b\b\b\b\b\b\b\b\n",
      "Epoch 17/25\n",
      "6/6 [==============================] - 0s 12ms/step - loss: -0.8407 - accuracy: 0.3018 - val_loss: -0.1842 - val_accuracy: 0.1395\b\b\b\b\b\b\b\b\b\b\b\b\b\b\b\b\b\b\b\b\b\b\b\b\b\b\b\b\b\b\b\b\b\n",
      "Epoch 18/25\n",
      "6/6 [==============================] - 0s 11ms/step - loss: -0.8854 - accuracy: 0.3077 - val_loss: -0.2260 - val_accuracy: 0.1628\b\b\b\b\b\b\b\b\b\b\b\b\b\b\b\b\b\b\b\b\b\b\b\b\b\b\b\b\b\b\b\b\b\n",
      "Epoch 19/25\n",
      "6/6 [==============================] - 0s 11ms/step - loss: -0.9284 - accuracy: 0.3136 - val_loss: -0.2670 - val_accuracy: 0.1628\b\b\b\b\b\b\b\b\b\b\b\b\b\b\b\b\b\b\b\b\b\b\b\b\b\b\b\b\b\b\b\b\b\n",
      "Epoch 20/25\n",
      "6/6 [==============================] - 0s 12ms/step - loss: -0.9730 - accuracy: 0.3254 - val_loss: -0.3094 - val_accuracy: 0.1860\b\b\b\b\b\b\b\b\b\b\b\b\b\b\b\b\b\b\b\b\b\b\b\b\b\b\b\b\b\b\b\b\b\n",
      "Epoch 21/25\n",
      "6/6 [==============================] - 0s 13ms/step - loss: -1.0170 - accuracy: 0.3373 - val_loss: -0.3524 - val_accuracy: 0.2093\b\b\b\b\b\b\b\b\b\b\b\b\b\b\b\b\b\b\b\b\b\b\b\b\b\b\b\b\b\b\b\b\b\n",
      "Epoch 22/25\n",
      "6/6 [==============================] - 0s 15ms/step - loss: -1.0639 - accuracy: 0.3550 - val_loss: -0.4004 - val_accuracy: 0.2326\b\b\b\b\b\b\b\b\b\b\b\b\b\b\b\b\b\b\b\b\b\b\b\b\b\b\b\b\b\b\b\b\b\n",
      "Epoch 23/25\n",
      "6/6 [==============================] - 0s 11ms/step - loss: -1.1097 - accuracy: 0.3491 - val_loss: -0.4513 - val_accuracy: 0.2326\b\b\b\b\b\b\b\b\b\b\b\b\b\b\b\b\b\b\b\b\b\b\b\b\b\b\b\b\b\b\b\b\b\n",
      "Epoch 24/25\n",
      "6/6 [==============================] - 0s 10ms/step - loss: -1.1615 - accuracy: 0.3609 - val_loss: -0.4965 - val_accuracy: 0.2791\b\b\b\b\b\b\b\b\b\b\b\b\b\b\b\b\b\b\b\b\b\b\b\b\b\b\b\b\b\b\b\b\b\n",
      "Epoch 25/25\n",
      "6/6 [==============================] - 0s 13ms/step - loss: -1.2110 - accuracy: 0.3846 - val_loss: -0.5443 - val_accuracy: 0.2558\b\b\b\b\b\b\b\b\b\b\b\b\b\b\b\b\b\b\b\b\b\b\b\b\b\b\b\b\b\b\b\b\b\n",
      "3/3 - 0s - loss: -9.5814e-01 - accuracy: 0.3077\n",
      "Epoch 1/25\n",
      "6/6 [==============================] - 1s 61ms/step - loss: 0.4374 - accuracy: 0.1598 - val_loss: 0.0841 - val_accuracy: 0.1628\b\b\b\b\b\b\b\b\b\b\b\b\b\b\b\b\b\b\b\b\b\b\b\b\b\b\b\b\b\b\b\b\b\b\b\n",
      "Epoch 2/25\n",
      "6/6 [==============================] - 0s 12ms/step - loss: 0.3696 - accuracy: 0.1657 - val_loss: 0.0381 - val_accuracy: 0.1628\b\b\b\b\b\b\b\b\b\b\b\b\b\b\b\b\b\b\b\b\b\b\b\b\b\b\b\b\b\b\b\b\b\b\b\n",
      "Epoch 3/25\n",
      "6/6 [==============================] - 0s 11ms/step - loss: 0.3104 - accuracy: 0.1716 - val_loss: -0.0014 - val_accuracy: 0.1628\b\b\b\b\b\b\b\b\b\b\b\b\b\b\b\b\b\b\b\b\b\b\b\b\b\b\b\b\b\b\b\b\b\b\n",
      "Epoch 4/25\n",
      "6/6 [==============================] - 0s 12ms/step - loss: 0.2554 - accuracy: 0.1775 - val_loss: -0.0422 - val_accuracy: 0.1860\b\b\b\b\b\b\b\b\b\b\b\b\b\b\b\b\b\b\b\b\b\b\b\b\b\b\b\b\b\b\b\b\b\b\n",
      "Epoch 5/25\n",
      "6/6 [==============================] - 0s 13ms/step - loss: 0.1994 - accuracy: 0.1775 - val_loss: -0.0821 - val_accuracy: 0.2326\b\b\b\b\b\b\b\b\b\b\b\b\b\b\b\b\b\b\b\b\b\b\b\b\b\b\b\b\b\b\b\b\n",
      "Epoch 6/25\n",
      "6/6 [==============================] - 0s 11ms/step - loss: 0.1460 - accuracy: 0.1775 - val_loss: -0.1209 - val_accuracy: 0.2558\b\b\b\b\b\b\b\b\b\b\b\b\b\b\b\b\b\b\b\b\b\b\b\b\b\b\b\b\b\b\b\b\n",
      "Epoch 7/25\n",
      "6/6 [==============================] - 0s 11ms/step - loss: 0.0971 - accuracy: 0.1953 - val_loss: -0.1607 - val_accuracy: 0.2558\b\b\b\b\b\b\b\b\b\b\b\b\b\b\b\b\b\b\b\b\b\b\b\b\b\b\b\b\b\b\b\b\n",
      "Epoch 8/25\n",
      "6/6 [==============================] - 0s 11ms/step - loss: 0.0409 - accuracy: 0.1953 - val_loss: -0.1976 - val_accuracy: 0.2558\b\b\b\b\b\b\b\b\b\b\b\b\b\b\b\b\b\b\b\b\b\b\b\b\b\b\b\b\b\b\b\b\n",
      "Epoch 9/25\n",
      "6/6 [==============================] - 0s 17ms/step - loss: -0.0080 - accuracy: 0.1953 - val_loss: -0.2351 - val_accuracy: 0.2558\b\b\b\b\b\b\b\b\b\b\b\b\b\b\b\b\b\b\b\b\b\b\b\b\b\b\b\b\b\b\b\b\b\n",
      "Epoch 10/25\n",
      "6/6 [==============================] - 0s 13ms/step - loss: -0.0601 - accuracy: 0.2130 - val_loss: -0.2742 - val_accuracy: 0.2558\b\b\b\b\b\b\b\b\b\b\b\b\b\b\b\b\b\b\b\b\b\b\b\b\b\b\b\b\b\b\b\n",
      "Epoch 11/25\n",
      "6/6 [==============================] - 0s 12ms/step - loss: -0.1116 - accuracy: 0.2249 - val_loss: -0.3146 - val_accuracy: 0.2558\b\b\b\b\b\b\b\b\b\b\b\b\b\b\b\b\b\b\b\b\b\b\b\b\b\b\b\b\b\b\b\b\b\n",
      "Epoch 12/25\n",
      "6/6 [==============================] - 0s 12ms/step - loss: -0.1614 - accuracy: 0.2367 - val_loss: -0.3579 - val_accuracy: 0.2558\b\b\b\b\b\b\b\b\b\b\b\b\b\b\b\b\b\b\b\b\b\b\b\b\b\b\b\b\b\b\b\b\b\n",
      "Epoch 13/25\n",
      "6/6 [==============================] - 0s 14ms/step - loss: -0.2131 - accuracy: 0.2367 - val_loss: -0.3988 - val_accuracy: 0.2558\b\b\b\b\b\b\b\b\b\b\b\b\b\b\b\b\b\b\b\b\b\b\b\b\b\b\b\b\b\b\b\b\b\n",
      "Epoch 14/25\n",
      "6/6 [==============================] - 0s 12ms/step - loss: -0.2646 - accuracy: 0.2485 - val_loss: -0.4393 - val_accuracy: 0.2791\b\b\b\b\b\b\b\b\b\b\b\b\b\b\b\b\b\b\b\b\b\b\b\b\b\b\b\b\b\b\b\b\b\n",
      "Epoch 15/25\n",
      "6/6 [==============================] - 0s 11ms/step - loss: -0.3165 - accuracy: 0.2781 - val_loss: -0.4805 - val_accuracy: 0.2791\b\b\b\b\b\b\b\b\b\b\b\b\b\b\b\b\b\b\b\b\b\b\b\b\b\b\b\b\b\b\b\b\b\n",
      "Epoch 16/25\n",
      "6/6 [==============================] - 0s 11ms/step - loss: -0.3668 - accuracy: 0.3018 - val_loss: -0.5273 - val_accuracy: 0.3023\b\b\b\b\b\b\b\b\b\b\b\b\b\b\b\b\b\b\b\b\b\b\b\b\b\b\b\b\b\b\b\b\b\n",
      "Epoch 17/25\n",
      "6/6 [==============================] - ETA: 0s - loss: -0.4954 - accuracy: 0.3125\b\b\b\b\b\b\b\b\b\b\b\b\b\b\b\b\b\b\b\b\b\b\b\b\b\b\b\b\b\b\b\b\b\b\b\b\b\b\b\b\b\b\b\b\b\b\b\b\b\b\b\b\b\b\b\b\b\b\b\b\b\b\b\b\b\b\b\b\b\b\b\b\b\b\b\b\b\b\b\b\b - 0s 12ms/step - loss: -0.4212 - accuracy: 0.3018 - val_loss: -0.5735 - val_accuracy: 0.3023\n",
      "Epoch 18/25\n",
      "6/6 [==============================] - 0s 12ms/step - loss: -0.4742 - accuracy: 0.3314 - val_loss: -0.6210 - val_accuracy: 0.3023\b\b\b\b\b\b\b\b\b\b\b\b\b\b\b\b\b\b\b\b\b\b\b\b\b\b\b\b\b\b\b\b\b\n",
      "Epoch 19/25\n",
      "6/6 [==============================] - 0s 12ms/step - loss: -0.5320 - accuracy: 0.3491 - val_loss: -0.6722 - val_accuracy: 0.3256\b\b\b\b\b\b\b\b\b\b\b\b\b\b\b\b\b\b\b\b\b\b\b\b\b\b\b\b\b\b\b\b\b\n",
      "Epoch 20/25\n",
      "6/6 [==============================] - 0s 11ms/step - loss: -0.5919 - accuracy: 0.3669 - val_loss: -0.7271 - val_accuracy: 0.3256\b\b\b\b\b\b\b\b\b\b\b\b\b\b\b\b\b\b\b\b\b\b\b\b\b\b\b\b\b\b\b\b\b\n",
      "Epoch 21/25\n",
      "6/6 [==============================] - 0s 13ms/step - loss: -0.6465 - accuracy: 0.3787 - val_loss: -0.7810 - val_accuracy: 0.3256\b\b\b\b\b\b\b\b\b\b\b\b\b\b\b\b\b\b\b\b\b\b\b\b\b\b\b\b\b\b\b\b\b\n",
      "Epoch 22/25\n",
      "6/6 [==============================] - 0s 11ms/step - loss: -0.7098 - accuracy: 0.3964 - val_loss: -0.8307 - val_accuracy: 0.3256\b\b\b\b\b\b\b\b\b\b\b\b\b\b\b\b\b\b\b\b\b\b\b\b\b\b\b\b\b\b\b\b\b\n",
      "Epoch 23/25\n",
      "6/6 [==============================] - 0s 11ms/step - loss: -0.7648 - accuracy: 0.4260 - val_loss: -0.8908 - val_accuracy: 0.3256\b\b\b\b\b\b\b\b\b\b\b\b\b\b\b\b\b\b\b\b\b\b\b\b\b\b\b\b\b\b\b\b\b\n",
      "Epoch 24/25\n",
      "6/6 [==============================] - 0s 11ms/step - loss: -0.8268 - accuracy: 0.4260 - val_loss: -0.9519 - val_accuracy: 0.3256\b\b\b\b\b\b\b\b\b\b\b\b\b\b\b\b\b\b\b\b\b\b\b\b\b\b\b\b\b\b\b\b\b\n",
      "Epoch 25/25\n",
      "6/6 [==============================] - 0s 13ms/step - loss: -0.8908 - accuracy: 0.4320 - val_loss: -1.0185 - val_accuracy: 0.3721\b\b\b\b\b\b\b\b\b\b\b\b\b\b\b\b\b\b\b\b\b\b\b\b\b\b\b\b\b\b\b\b\b\n",
      "3/3 - 0s - loss: -1.0528e+00 - accuracy: 0.4725\n",
      "Epoch 1/25\n",
      "6/6 [==============================] - 1s 63ms/step - loss: -0.0943 - accuracy: 0.2604 - val_loss: 0.0470 - val_accuracy: 0.1628\b\b\b\b\b\b\b\b\b\b\b\b\b\b\b\b\b\b\b\b\b\b\b\b\b\b\b\b\b\b\b\b\b\b\n",
      "Epoch 2/25\n",
      "6/6 [==============================] - 0s 12ms/step - loss: -0.1880 - accuracy: 0.2663 - val_loss: -0.0092 - val_accuracy: 0.1860\b\b\b\b\b\b\b\b\b\b\b\b\b\b\b\b\b\b\b\b\b\b\b\b\b\b\b\b\b\b\b\b\b\n",
      "Epoch 3/25\n",
      "6/6 [==============================] - 0s 11ms/step - loss: -0.2749 - accuracy: 0.2899 - val_loss: -0.0588 - val_accuracy: 0.1860\b\b\b\b\b\b\b\b\b\b\b\b\b\b\b\b\b\b\b\b\b\b\b\b\b\b\b\b\b\b\b\b\b\n",
      "Epoch 4/25\n",
      "6/6 [==============================] - 0s 11ms/step - loss: -0.3538 - accuracy: 0.2959 - val_loss: -0.1101 - val_accuracy: 0.2093\b\b\b\b\b\b\b\b\b\b\b\b\b\b\b\b\b\b\b\b\b\b\b\b\b\b\b\b\b\b\b\b\b\n",
      "Epoch 5/25\n",
      "6/6 [==============================] - 0s 12ms/step - loss: -0.4335 - accuracy: 0.3018 - val_loss: -0.1593 - val_accuracy: 0.2326\b\b\b\b\b\b\b\b\b\b\b\b\b\b\b\b\b\b\b\b\b\b\b\b\b\b\b\b\b\b\b\b\b\n",
      "Epoch 6/25\n",
      "6/6 [==============================] - 0s 13ms/step - loss: -0.5138 - accuracy: 0.3018 - val_loss: -0.2122 - val_accuracy: 0.2326\b\b\b\b\b\b\b\b\b\b\b\b\b\b\b\b\b\b\b\b\b\b\b\b\b\b\b\b\b\b\b\b\b\n",
      "Epoch 7/25\n",
      "6/6 [==============================] - 0s 11ms/step - loss: -0.5909 - accuracy: 0.3136 - val_loss: -0.2639 - val_accuracy: 0.2326\b\b\b\b\b\b\b\b\b\b\b\b\b\b\b\b\b\b\b\b\b\b\b\b\b\b\b\b\b\b\b\b\b\n",
      "Epoch 8/25\n",
      "6/6 [==============================] - 0s 11ms/step - loss: -0.6728 - accuracy: 0.3373 - val_loss: -0.3116 - val_accuracy: 0.2558\b\b\b\b\b\b\b\b\b\b\b\b\b\b\b\b\b\b\b\b\b\b\b\b\b\b\b\b\b\b\b\b\b\n",
      "Epoch 9/25\n",
      "6/6 [==============================] - 0s 12ms/step - loss: -0.7559 - accuracy: 0.3432 - val_loss: -0.3637 - val_accuracy: 0.2791\b\b\b\b\b\b\b\b\b\b\b\b\b\b\b\b\b\b\b\b\b\b\b\b\b\b\b\b\b\b\b\b\b\n",
      "Epoch 10/25\n",
      "6/6 [==============================] - 0s 13ms/step - loss: -0.8338 - accuracy: 0.3609 - val_loss: -0.4187 - val_accuracy: 0.2791\b\b\b\b\b\b\b\b\b\b\b\b\b\b\b\b\b\b\b\b\b\b\b\b\b\b\b\b\b\b\b\b\b\n",
      "Epoch 11/25\n",
      "6/6 [==============================] - 0s 11ms/step - loss: -0.9063 - accuracy: 0.3669 - val_loss: -0.4758 - val_accuracy: 0.2791\b\b\b\b\b\b\b\b\b\b\b\b\b\b\b\b\b\b\b\b\b\b\b\b\b\b\b\b\b\b\b\b\b\n",
      "Epoch 12/25\n",
      "6/6 [==============================] - 0s 11ms/step - loss: -0.9918 - accuracy: 0.3787 - val_loss: -0.5282 - val_accuracy: 0.2791\b\b\b\b\b\b\b\b\b\b\b\b\b\b\b\b\b\b\b\b\b\b\b\b\b\b\b\b\b\b\b\b\b\n",
      "Epoch 13/25\n",
      "6/6 [==============================] - 0s 13ms/step - loss: -1.0727 - accuracy: 0.3787 - val_loss: -0.5846 - val_accuracy: 0.2791\b\b\b\b\b\b\b\b\b\b\b\b\b\b\b\b\b\b\b\b\b\b\b\b\b\b\b\b\b\b\b\b\b\n",
      "Epoch 14/25\n",
      "6/6 [==============================] - 0s 12ms/step - loss: -1.1508 - accuracy: 0.3964 - val_loss: -0.6361 - val_accuracy: 0.3023\b\b\b\b\b\b\b\b\b\b\b\b\b\b\b\b\b\b\b\b\b\b\b\b\b\b\b\b\b\b\b\b\b\n",
      "Epoch 15/25\n",
      "6/6 [==============================] - 0s 13ms/step - loss: -1.2312 - accuracy: 0.4142 - val_loss: -0.6859 - val_accuracy: 0.3256\b\b\b\b\b\b\b\b\b\b\b\b\b\b\b\b\b\b\b\b\b\b\b\b\b\b\b\b\b\b\b\b\b\n",
      "Epoch 16/25\n",
      "6/6 [==============================] - 0s 12ms/step - loss: -1.3127 - accuracy: 0.4379 - val_loss: -0.7406 - val_accuracy: 0.3256\b\b\b\b\b\b\b\b\b\b\b\b\b\b\b\b\b\b\b\b\b\b\b\b\b\b\b\b\b\b\b\b\b\n",
      "Epoch 17/25\n",
      "6/6 [==============================] - 0s 13ms/step - loss: -1.3893 - accuracy: 0.4320 - val_loss: -0.7958 - val_accuracy: 0.3488\b\b\b\b\b\b\b\b\b\b\b\b\b\b\b\b\b\b\b\b\b\b\b\b\b\b\b\b\b\b\b\b\b\n",
      "Epoch 18/25\n",
      "6/6 [==============================] - 0s 13ms/step - loss: -1.4715 - accuracy: 0.4497 - val_loss: -0.8474 - val_accuracy: 0.3488\b\b\b\b\b\b\b\b\b\b\b\b\b\b\b\b\b\b\b\b\b\b\b\b\b\b\b\b\b\b\b\b\b\n",
      "Epoch 19/25\n",
      "6/6 [==============================] - 0s 11ms/step - loss: -1.5534 - accuracy: 0.4675 - val_loss: -0.9026 - val_accuracy: 0.3488\b\b\b\b\b\b\b\b\b\b\b\b\b\b\b\b\b\b\b\b\b\b\b\b\b\b\b\b\b\b\b\b\b\n",
      "Epoch 20/25\n",
      "6/6 [==============================] - 0s 13ms/step - loss: -1.6408 - accuracy: 0.4852 - val_loss: -0.9664 - val_accuracy: 0.3488\b\b\b\b\b\b\b\b\b\b\b\b\b\b\b\b\b\b\b\b\b\b\b\b\b\b\b\b\b\b\b\b\b\n",
      "Epoch 21/25\n",
      "6/6 [==============================] - 0s 13ms/step - loss: -1.7253 - accuracy: 0.4852 - val_loss: -1.0334 - val_accuracy: 0.3953\b\b\b\b\b\b\b\b\b\b\b\b\b\b\b\b\b\b\b\b\b\b\b\b\b\b\b\b\b\b\b\b\b\n",
      "Epoch 22/25\n",
      "6/6 [==============================] - 0s 13ms/step - loss: -1.8192 - accuracy: 0.4793 - val_loss: -1.0986 - val_accuracy: 0.3721\b\b\b\b\b\b\b\b\b\b\b\b\b\b\b\b\b\b\b\b\b\b\b\b\b\b\b\b\b\b\b\b\b\n",
      "Epoch 23/25\n",
      "6/6 [==============================] - 0s 11ms/step - loss: -1.9111 - accuracy: 0.4734 - val_loss: -1.1580 - val_accuracy: 0.3721\b\b\b\b\b\b\b\b\b\b\b\b\b\b\b\b\b\b\b\b\b\b\b\b\b\b\b\b\b\b\b\b\b\n",
      "Epoch 24/25\n",
      "6/6 [==============================] - 0s 11ms/step - loss: -1.9986 - accuracy: 0.4793 - val_loss: -1.2336 - val_accuracy: 0.3721\b\b\b\b\b\b\b\b\b\b\b\b\b\b\b\b\b\b\b\b\b\b\b\b\b\b\b\b\b\b\b\b\b\n",
      "Epoch 25/25\n",
      "6/6 [==============================] - 0s 13ms/step - loss: -2.1039 - accuracy: 0.4852 - val_loss: -1.3062 - val_accuracy: 0.3953\b\b\b\b\b\b\b\b\b\b\b\b\b\b\b\b\b\b\b\b\b\b\b\b\b\b\b\b\b\b\b\b\b\n",
      "3/3 - 0s - loss: -1.6320e+00 - accuracy: 0.4396\n",
      "Epoch 1/25\n",
      "6/6 [==============================] - 1s 64ms/step - loss: 0.0126 - accuracy: 0.2189 - val_loss: -0.2594 - val_accuracy: 0.2326\b\b\b\b\b\b\b\b\b\b\b\b\b\b\b\b\b\b\b\b\b\b\b\b\b\b\b\b\b\b\b\b\n",
      "Epoch 2/25\n",
      "6/6 [==============================] - 0s 10ms/step - loss: -0.0952 - accuracy: 0.2249 - val_loss: -0.3382 - val_accuracy: 0.2326\b\b\b\b\b\b\b\b\b\b\b\b\b\b\b\b\b\b\b\b\b\b\b\b\b\b\b\b\b\b\b\n",
      "Epoch 3/25\n",
      "6/6 [==============================] - 0s 11ms/step - loss: -0.1925 - accuracy: 0.2367 - val_loss: -0.4224 - val_accuracy: 0.2558\b\b\b\b\b\b\b\b\b\b\b\b\b\b\b\b\b\b\b\b\b\b\b\b\b\b\b\b\b\b\b\b\b\n",
      "Epoch 4/25\n",
      "6/6 [==============================] - 0s 11ms/step - loss: -0.2796 - accuracy: 0.2485 - val_loss: -0.5109 - val_accuracy: 0.2791\b\b\b\b\b\b\b\b\b\b\b\b\b\b\b\b\b\b\b\b\b\b\b\b\b\b\b\b\b\b\b\b\b\n",
      "Epoch 5/25\n",
      "6/6 [==============================] - 0s 13ms/step - loss: -0.3767 - accuracy: 0.2663 - val_loss: -0.5966 - val_accuracy: 0.3023\b\b\b\b\b\b\b\b\b\b\b\b\b\b\b\b\b\b\b\b\b\b\b\b\b\b\b\b\b\b\b\b\b\n",
      "Epoch 6/25\n",
      "6/6 [==============================] - 0s 13ms/step - loss: -0.4708 - accuracy: 0.3077 - val_loss: -0.6812 - val_accuracy: 0.3256\b\b\b\b\b\b\b\b\b\b\b\b\b\b\b\b\b\b\b\b\b\b\b\b\b\b\b\b\b\b\b\b\b\n",
      "Epoch 7/25\n",
      "6/6 [==============================] - 0s 11ms/step - loss: -0.5665 - accuracy: 0.3254 - val_loss: -0.7713 - val_accuracy: 0.3488\b\b\b\b\b\b\b\b\b\b\b\b\b\b\b\b\b\b\b\b\b\b\b\b\b\b\b\b\b\b\b\b\b\n",
      "Epoch 8/25\n",
      "6/6 [==============================] - 0s 13ms/step - loss: -0.6608 - accuracy: 0.3432 - val_loss: -0.8614 - val_accuracy: 0.3953\b\b\b\b\b\b\b\b\b\b\b\b\b\b\b\b\b\b\b\b\b\b\b\b\b\b\b\b\b\b\b\b\b\n",
      "Epoch 9/25\n",
      "6/6 [==============================] - 0s 13ms/step - loss: -0.7572 - accuracy: 0.3728 - val_loss: -0.9510 - val_accuracy: 0.4651\b\b\b\b\b\b\b\b\b\b\b\b\b\b\b\b\b\b\b\b\b\b\b\b\b\b\b\b\b\b\b\b\b\n",
      "Epoch 10/25\n",
      "6/6 [==============================] - 0s 13ms/step - loss: -0.8589 - accuracy: 0.4024 - val_loss: -1.0364 - val_accuracy: 0.4651\b\b\b\b\b\b\b\b\b\b\b\b\b\b\b\b\b\b\b\b\b\b\b\b\b\b\b\b\b\b\b\b\b\n",
      "Epoch 11/25\n",
      "6/6 [==============================] - 0s 11ms/step - loss: -0.9517 - accuracy: 0.4142 - val_loss: -1.1350 - val_accuracy: 0.4884\b\b\b\b\b\b\b\b\b\b\b\b\b\b\b\b\b\b\b\b\b\b\b\b\b\b\b\b\b\b\b\b\b\n",
      "Epoch 12/25\n",
      "6/6 [==============================] - 0s 12ms/step - loss: -1.0537 - accuracy: 0.4320 - val_loss: -1.2323 - val_accuracy: 0.4884\b\b\b\b\b\b\b\b\b\b\b\b\b\b\b\b\b\b\b\b\b\b\b\b\b\b\b\b\b\b\b\b\b\n",
      "Epoch 13/25\n",
      "6/6 [==============================] - 0s 13ms/step - loss: -1.1568 - accuracy: 0.4438 - val_loss: -1.3185 - val_accuracy: 0.5116\b\b\b\b\b\b\b\b\b\b\b\b\b\b\b\b\b\b\b\b\b\b\b\b\b\b\b\b\b\b\b\b\b\n",
      "Epoch 14/25\n",
      "6/6 [==============================] - 0s 12ms/step - loss: -1.2576 - accuracy: 0.4793 - val_loss: -1.4103 - val_accuracy: 0.5349\b\b\b\b\b\b\b\b\b\b\b\b\b\b\b\b\b\b\b\b\b\b\b\b\b\b\b\b\b\b\b\b\b\n",
      "Epoch 15/25\n",
      "6/6 [==============================] - 0s 12ms/step - loss: -1.3626 - accuracy: 0.4793 - val_loss: -1.5075 - val_accuracy: 0.5349\b\b\b\b\b\b\b\b\b\b\b\b\b\b\b\b\b\b\b\b\b\b\b\b\b\b\b\b\b\b\b\b\b\n",
      "Epoch 16/25\n",
      "6/6 [==============================] - 0s 18ms/step - loss: -1.4779 - accuracy: 0.4793 - val_loss: -1.6058 - val_accuracy: 0.5349\b\b\b\b\b\b\b\b\b\b\b\b\b\b\b\b\b\b\b\b\b\b\b\b\b\b\b\b\b\b\b\b\b\n",
      "Epoch 17/25\n",
      "6/6 [==============================] - 0s 11ms/step - loss: -1.5928 - accuracy: 0.4793 - val_loss: -1.7058 - val_accuracy: 0.5349\b\b\b\b\b\b\b\b\b\b\b\b\b\b\b\b\b\b\b\b\b\b\b\b\b\b\b\b\b\b\b\b\b\n",
      "Epoch 18/25\n",
      "6/6 [==============================] - 0s 10ms/step - loss: -1.7015 - accuracy: 0.4793 - val_loss: -1.8106 - val_accuracy: 0.5814\b\b\b\b\b\b\b\b\b\b\b\b\b\b\b\b\b\b\b\b\b\b\b\b\b\b\b\b\b\b\b\b\b\n",
      "Epoch 19/25\n",
      "6/6 [==============================] - 0s 11ms/step - loss: -1.8199 - accuracy: 0.4852 - val_loss: -1.9308 - val_accuracy: 0.5814\b\b\b\b\b\b\b\b\b\b\b\b\b\b\b\b\b\b\b\b\b\b\b\b\b\b\b\b\b\b\b\b\b\n",
      "Epoch 20/25\n",
      "6/6 [==============================] - 0s 13ms/step - loss: -1.9457 - accuracy: 0.4970 - val_loss: -2.0491 - val_accuracy: 0.5814\b\b\b\b\b\b\b\b\b\b\b\b\b\b\b\b\b\b\b\b\b\b\b\b\b\b\b\b\b\b\b\b\b\n",
      "Epoch 21/25\n",
      "6/6 [==============================] - 0s 13ms/step - loss: -2.0721 - accuracy: 0.5030 - val_loss: -2.1607 - val_accuracy: 0.5814\b\b\b\b\b\b\b\b\b\b\b\b\b\b\b\b\b\b\b\b\b\b\b\b\b\b\b\b\b\b\b\b\b\n",
      "Epoch 22/25\n",
      "6/6 [==============================] - 0s 11ms/step - loss: -2.2007 - accuracy: 0.5207 - val_loss: -2.2786 - val_accuracy: 0.5814\b\b\b\b\b\b\b\b\b\b\b\b\b\b\b\b\b\b\b\b\b\b\b\b\b\b\b\b\b\b\b\b\b\n",
      "Epoch 23/25\n",
      "6/6 [==============================] - 0s 12ms/step - loss: -2.3304 - accuracy: 0.5148 - val_loss: -2.3921 - val_accuracy: 0.5814\b\b\b\b\b\b\b\b\b\b\b\b\b\b\b\b\b\b\b\b\b\b\b\b\b\b\b\b\b\b\b\b\b\n",
      "Epoch 24/25\n",
      "6/6 [==============================] - 0s 15ms/step - loss: -2.4565 - accuracy: 0.5030 - val_loss: -2.5100 - val_accuracy: 0.5814\b\b\b\b\b\b\b\b\b\b\b\b\b\b\b\b\b\b\b\b\b\b\b\b\b\b\b\b\b\b\b\b\b\n",
      "Epoch 25/25\n",
      "6/6 [==============================] - 0s 11ms/step - loss: -2.5887 - accuracy: 0.5148 - val_loss: -2.6290 - val_accuracy: 0.5814\b\b\b\b\b\b\b\b\b\b\b\b\b\b\b\b\b\b\b\b\b\b\b\b\b\b\b\b\b\b\b\b\b\n",
      "3/3 - 0s - loss: -2.4437e+00 - accuracy: 0.4835\n",
      "Epoch 1/25\n",
      "6/6 [==============================] - 1s 63ms/step - loss: -0.6549 - accuracy: 0.2722 - val_loss: -0.8731 - val_accuracy: 0.2791\b\b\b\b\b\b\b\b\b\b\b\b\b\b\b\b\b\b\b\b\b\b\b\b\b\b\b\b\b\b\b\b\b\n",
      "Epoch 2/25\n",
      "6/6 [==============================] - 0s 10ms/step - loss: -0.7818 - accuracy: 0.2899 - val_loss: -0.9588 - val_accuracy: 0.2558\b\b\b\b\b\b\b\b\b\b\b\b\b\b\b\b\b\b\b\b\b\b\b\b\b\b\b\b\b\b\b\b\b\n",
      "Epoch 3/25\n",
      "6/6 [==============================] - 0s 11ms/step - loss: -0.8962 - accuracy: 0.3136 - val_loss: -1.0448 - val_accuracy: 0.3023\b\b\b\b\b\b\b\b\b\b\b\b\b\b\b\b\b\b\b\b\b\b\b\b\b\b\b\b\b\b\b\b\b\n",
      "Epoch 4/25\n",
      "6/6 [==============================] - 0s 11ms/step - loss: -1.0015 - accuracy: 0.3314 - val_loss: -1.1305 - val_accuracy: 0.3721\b\b\b\b\b\b\b\b\b\b\b\b\b\b\b\b\b\b\b\b\b\b\b\b\b\b\b\b\b\b\b\b\b\n",
      "Epoch 5/25\n",
      "6/6 [==============================] - 0s 12ms/step - loss: -1.1186 - accuracy: 0.3669 - val_loss: -1.2247 - val_accuracy: 0.3488\b\b\b\b\b\b\b\b\b\b\b\b\b\b\b\b\b\b\b\b\b\b\b\b\b\b\b\b\b\b\b\b\b\n",
      "Epoch 6/25\n",
      "6/6 [==============================] - 0s 12ms/step - loss: -1.2330 - accuracy: 0.3846 - val_loss: -1.3150 - val_accuracy: 0.3488\b\b\b\b\b\b\b\b\b\b\b\b\b\b\b\b\b\b\b\b\b\b\b\b\b\b\b\b\b\b\b\b\b\n",
      "Epoch 7/25\n",
      "6/6 [==============================] - 0s 12ms/step - loss: -1.3382 - accuracy: 0.3964 - val_loss: -1.4070 - val_accuracy: 0.3488\b\b\b\b\b\b\b\b\b\b\b\b\b\b\b\b\b\b\b\b\b\b\b\b\b\b\b\b\b\b\b\b\b\n",
      "Epoch 8/25\n",
      "6/6 [==============================] - 0s 12ms/step - loss: -1.4478 - accuracy: 0.4024 - val_loss: -1.5040 - val_accuracy: 0.4186\b\b\b\b\b\b\b\b\b\b\b\b\b\b\b\b\b\b\b\b\b\b\b\b\b\b\b\b\b\b\b\b\b\n",
      "Epoch 9/25\n",
      "6/6 [==============================] - 0s 13ms/step - loss: -1.5598 - accuracy: 0.4024 - val_loss: -1.5907 - val_accuracy: 0.4186\b\b\b\b\b\b\b\b\b\b\b\b\b\b\b\b\b\b\b\b\b\b\b\b\b\b\b\b\b\b\b\b\b\n",
      "Epoch 10/25\n",
      "6/6 [==============================] - 0s 13ms/step - loss: -1.6641 - accuracy: 0.4320 - val_loss: -1.6822 - val_accuracy: 0.4186\b\b\b\b\b\b\b\b\b\b\b\b\b\b\b\b\b\b\b\b\b\b\b\b\b\b\b\b\b\b\b\b\b\n",
      "Epoch 11/25\n",
      "6/6 [==============================] - ETA: 0s - loss: -1.9088 - accuracy: 0.5312\b\b\b\b\b\b\b\b\b\b\b\b\b\b\b\b\b\b\b\b\b\b\b\b\b\b\b\b\b\b\b\b\b\b\b\b\b\b\b\b\b\b\b\b\b\b\b\b\b\b\b\b\b\b\b\b\b\b\b\b\b\b\b\b\b\b\b\b\b\b\b\b\b\b\b\b\b\b\b\b\b - 0s 12ms/step - loss: -1.7736 - accuracy: 0.4379 - val_loss: -1.7777 - val_accuracy: 0.4186\n",
      "Epoch 12/25\n",
      "6/6 [==============================] - 0s 12ms/step - loss: -1.8874 - accuracy: 0.4497 - val_loss: -1.8732 - val_accuracy: 0.4186\b\b\b\b\b\b\b\b\b\b\b\b\b\b\b\b\b\b\b\b\b\b\b\b\b\b\b\b\b\b\b\b\b\n",
      "Epoch 13/25\n",
      "6/6 [==============================] - 0s 12ms/step - loss: -1.9951 - accuracy: 0.4675 - val_loss: -1.9650 - val_accuracy: 0.4186\b\b\b\b\b\b\b\b\b\b\b\b\b\b\b\b\b\b\b\b\b\b\b\b\b\b\b\b\b\b\b\b\b\n",
      "Epoch 14/25\n",
      "6/6 [==============================] - 0s 11ms/step - loss: -2.1066 - accuracy: 0.4852 - val_loss: -2.0544 - val_accuracy: 0.4186\b\b\b\b\b\b\b\b\b\b\b\b\b\b\b\b\b\b\b\b\b\b\b\b\b\b\b\b\b\b\b\b\b\n",
      "Epoch 15/25\n",
      "6/6 [==============================] - 0s 12ms/step - loss: -2.2239 - accuracy: 0.5089 - val_loss: -2.1579 - val_accuracy: 0.4419\b\b\b\b\b\b\b\b\b\b\b\b\b\b\b\b\b\b\b\b\b\b\b\b\b\b\b\b\b\b\b\b\b\n",
      "Epoch 16/25\n",
      "6/6 [==============================] - 0s 11ms/step - loss: -2.3496 - accuracy: 0.5266 - val_loss: -2.2668 - val_accuracy: 0.4419\b\b\b\b\b\b\b\b\b\b\b\b\b\b\b\b\b\b\b\b\b\b\b\b\b\b\b\b\b\b\b\b\b\n",
      "Epoch 17/25\n",
      "6/6 [==============================] - 0s 11ms/step - loss: -2.4718 - accuracy: 0.5325 - val_loss: -2.3811 - val_accuracy: 0.4419\b\b\b\b\b\b\b\b\b\b\b\b\b\b\b\b\b\b\b\b\b\b\b\b\b\b\b\b\b\b\b\b\b\n",
      "Epoch 18/25\n",
      "6/6 [==============================] - 0s 15ms/step - loss: -2.6077 - accuracy: 0.5325 - val_loss: -2.4878 - val_accuracy: 0.4419\b\b\b\b\b\b\b\b\b\b\b\b\b\b\b\b\b\b\b\b\b\b\b\b\b\b\b\b\b\b\b\b\b\n",
      "Epoch 19/25\n",
      "6/6 [==============================] - 0s 11ms/step - loss: -2.7306 - accuracy: 0.5325 - val_loss: -2.5838 - val_accuracy: 0.4419\b\b\b\b\b\b\b\b\b\b\b\b\b\b\b\b\b\b\b\b\b\b\b\b\b\b\b\b\b\b\b\b\b\n",
      "Epoch 20/25\n",
      "6/6 [==============================] - ETA: 0s - loss: -2.8688 - accuracy: 0.5312\b\b\b\b\b\b\b\b\b\b\b\b\b\b\b\b\b\b\b\b\b\b\b\b\b\b\b\b\b\b\b\b\b\b\b\b\b\b\b\b\b\b\b\b\b\b\b\b\b\b\b\b\b\b\b\b\b\b\b\b\b\b\b\b\b\b\b\b\b\b\b\b\b\b\b\b\b\b\b\b\b - 0s 11ms/step - loss: -2.8538 - accuracy: 0.5325 - val_loss: -2.6833 - val_accuracy: 0.4419\n",
      "Epoch 21/25\n",
      "6/6 [==============================] - 0s 12ms/step - loss: -2.9857 - accuracy: 0.5444 - val_loss: -2.8060 - val_accuracy: 0.4419\b\b\b\b\b\b\b\b\b\b\b\b\b\b\b\b\b\b\b\b\b\b\b\b\b\b\b\b\b\b\b\b\b\n",
      "Epoch 22/25\n",
      "6/6 [==============================] - 0s 12ms/step - loss: -3.1249 - accuracy: 0.5444 - val_loss: -2.9283 - val_accuracy: 0.4651\b\b\b\b\b\b\b\b\b\b\b\b\b\b\b\b\b\b\b\b\b\b\b\b\b\b\b\b\b\b\b\b\b\n",
      "Epoch 23/25\n",
      "6/6 [==============================] - 0s 12ms/step - loss: -3.2597 - accuracy: 0.5444 - val_loss: -3.0549 - val_accuracy: 0.4651\b\b\b\b\b\b\b\b\b\b\b\b\b\b\b\b\b\b\b\b\b\b\b\b\b\b\b\b\b\b\b\b\b\n",
      "Epoch 24/25\n",
      "6/6 [==============================] - 0s 12ms/step - loss: -3.4053 - accuracy: 0.5385 - val_loss: -3.1906 - val_accuracy: 0.4651\b\b\b\b\b\b\b\b\b\b\b\b\b\b\b\b\b\b\b\b\b\b\b\b\b\b\b\b\b\b\b\b\b\n",
      "Epoch 25/25\n",
      "6/6 [==============================] - 0s 12ms/step - loss: -3.5536 - accuracy: 0.5444 - val_loss: -3.3208 - val_accuracy: 0.5116\b\b\b\b\b\b\b\b\b\b\b\b\b\b\b\b\b\b\b\b\b\b\b\b\b\b\b\b\b\b\b\b\b\n",
      "3/3 - 0s - loss: -3.3823e+00 - accuracy: 0.5055\n",
      "Epoch 1/25\n",
      "6/6 [==============================] - 1s 66ms/step - loss: -0.0101 - accuracy: 0.1538 - val_loss: 0.0785 - val_accuracy: 0.0465\b\b\b\b\b\b\b\b\b\b\b\b\b\b\b\b\b\b\b\b\b\b\b\b\b\b\b\b\b\b\b\b\n",
      "Epoch 2/25\n",
      "6/6 [==============================] - 0s 12ms/step - loss: -0.1532 - accuracy: 0.1598 - val_loss: -0.0325 - val_accuracy: 0.0698\b\b\b\b\b\b\b\b\b\b\b\b\b\b\b\b\b\b\b\b\b\b\b\b\b\b\b\b\b\b\b\b\b\n",
      "Epoch 3/25\n",
      "6/6 [==============================] - 0s 12ms/step - loss: -0.2700 - accuracy: 0.1598 - val_loss: -0.1353 - val_accuracy: 0.0465\b\b\b\b\b\b\b\b\b\b\b\b\b\b\b\b\b\b\b\b\b\b\b\b\b\b\b\b\b\b\b\b\b\n",
      "Epoch 4/25\n",
      "6/6 [==============================] - 0s 12ms/step - loss: -0.3926 - accuracy: 0.1834 - val_loss: -0.2345 - val_accuracy: 0.0465\b\b\b\b\b\b\b\b\b\b\b\b\b\b\b\b\b\b\b\b\b\b\b\b\b\b\b\b\b\b\b\b\b\n",
      "Epoch 5/25\n",
      "6/6 [==============================] - 0s 13ms/step - loss: -0.4989 - accuracy: 0.1716 - val_loss: -0.3347 - val_accuracy: 0.0698\b\b\b\b\b\b\b\b\b\b\b\b\b\b\b\b\b\b\b\b\b\b\b\b\b\b\b\b\b\b\b\b\b\n",
      "Epoch 6/25\n",
      "6/6 [==============================] - 0s 14ms/step - loss: -0.6192 - accuracy: 0.1893 - val_loss: -0.4301 - val_accuracy: 0.0930\b\b\b\b\b\b\b\b\b\b\b\b\b\b\b\b\b\b\b\b\b\b\b\b\b\b\b\b\b\b\b\b\b\n",
      "Epoch 7/25\n",
      "6/6 [==============================] - 0s 13ms/step - loss: -0.7273 - accuracy: 0.2071 - val_loss: -0.5189 - val_accuracy: 0.1163\b\b\b\b\b\b\b\b\b\b\b\b\b\b\b\b\b\b\b\b\b\b\b\b\b\b\b\b\b\b\b\b\b\n",
      "Epoch 8/25\n",
      "6/6 [==============================] - 0s 13ms/step - loss: -0.8410 - accuracy: 0.2189 - val_loss: -0.5985 - val_accuracy: 0.1628\b\b\b\b\b\b\b\b\b\b\b\b\b\b\b\b\b\b\b\b\b\b\b\b\b\b\b\b\b\b\b\b\b\n",
      "Epoch 9/25\n",
      "6/6 [==============================] - 0s 14ms/step - loss: -0.9493 - accuracy: 0.2249 - val_loss: -0.6955 - val_accuracy: 0.1860\b\b\b\b\b\b\b\b\b\b\b\b\b\b\b\b\b\b\b\b\b\b\b\b\b\b\b\b\b\b\b\b\b\n",
      "Epoch 10/25\n",
      "6/6 [==============================] - 0s 13ms/step - loss: -1.0636 - accuracy: 0.2781 - val_loss: -0.7966 - val_accuracy: 0.2093\b\b\b\b\b\b\b\b\b\b\b\b\b\b\b\b\b\b\b\b\b\b\b\b\b\b\b\b\b\b\b\b\b\n",
      "Epoch 11/25\n",
      "6/6 [==============================] - 0s 13ms/step - loss: -1.1794 - accuracy: 0.2663 - val_loss: -0.8961 - val_accuracy: 0.2326\b\b\b\b\b\b\b\b\b\b\b\b\b\b\b\b\b\b\b\b\b\b\b\b\b\b\b\b\b\b\b\b\b\n",
      "Epoch 12/25\n",
      "6/6 [==============================] - 0s 13ms/step - loss: -1.2854 - accuracy: 0.2781 - val_loss: -0.9964 - val_accuracy: 0.2326\b\b\b\b\b\b\b\b\b\b\b\b\b\b\b\b\b\b\b\b\b\b\b\b\b\b\b\b\b\b\b\b\b\n",
      "Epoch 13/25\n",
      "6/6 [==============================] - 0s 12ms/step - loss: -1.4008 - accuracy: 0.2840 - val_loss: -1.0933 - val_accuracy: 0.2326\b\b\b\b\b\b\b\b\b\b\b\b\b\b\b\b\b\b\b\b\b\b\b\b\b\b\b\b\b\b\b\b\b\n",
      "Epoch 14/25\n",
      "6/6 [==============================] - 0s 11ms/step - loss: -1.5209 - accuracy: 0.3314 - val_loss: -1.1836 - val_accuracy: 0.2326\b\b\b\b\b\b\b\b\b\b\b\b\b\b\b\b\b\b\b\b\b\b\b\b\b\b\b\b\b\b\b\b\b\n",
      "Epoch 15/25\n",
      "6/6 [==============================] - 0s 12ms/step - loss: -1.6340 - accuracy: 0.3550 - val_loss: -1.2887 - val_accuracy: 0.2558\b\b\b\b\b\b\b\b\b\b\b\b\b\b\b\b\b\b\b\b\b\b\b\b\b\b\b\b\b\b\b\b\b\n",
      "Epoch 16/25\n",
      "6/6 [==============================] - 0s 14ms/step - loss: -1.7669 - accuracy: 0.3669 - val_loss: -1.3927 - val_accuracy: 0.2558\b\b\b\b\b\b\b\b\b\b\b\b\b\b\b\b\b\b\b\b\b\b\b\b\b\b\b\b\b\b\b\b\b\n",
      "Epoch 17/25\n",
      "6/6 [==============================] - 0s 11ms/step - loss: -1.8884 - accuracy: 0.3787 - val_loss: -1.5004 - val_accuracy: 0.2558\b\b\b\b\b\b\b\b\b\b\b\b\b\b\b\b\b\b\b\b\b\b\b\b\b\b\b\b\b\b\b\b\b\n",
      "Epoch 18/25\n",
      "6/6 [==============================] - 0s 12ms/step - loss: -2.0162 - accuracy: 0.3905 - val_loss: -1.6188 - val_accuracy: 0.2558\b\b\b\b\b\b\b\b\b\b\b\b\b\b\b\b\b\b\b\b\b\b\b\b\b\b\b\b\b\b\b\b\b\n",
      "Epoch 19/25\n",
      "6/6 [==============================] - 0s 15ms/step - loss: -2.1479 - accuracy: 0.4260 - val_loss: -1.7429 - val_accuracy: 0.2558\b\b\b\b\b\b\b\b\b\b\b\b\b\b\b\b\b\b\b\b\b\b\b\b\b\b\b\b\b\b\b\b\b\n",
      "Epoch 20/25\n",
      "6/6 [==============================] - 0s 15ms/step - loss: -2.2790 - accuracy: 0.4260 - val_loss: -1.8668 - val_accuracy: 0.2791\b\b\b\b\b\b\b\b\b\b\b\b\b\b\b\b\b\b\b\b\b\b\b\b\b\b\b\b\b\b\b\b\b\n",
      "Epoch 21/25\n",
      "6/6 [==============================] - 0s 11ms/step - loss: -2.4219 - accuracy: 0.4260 - val_loss: -1.9923 - val_accuracy: 0.2791\b\b\b\b\b\b\b\b\b\b\b\b\b\b\b\b\b\b\b\b\b\b\b\b\b\b\b\b\b\b\b\b\b\n",
      "Epoch 22/25\n",
      "6/6 [==============================] - 0s 11ms/step - loss: -2.5650 - accuracy: 0.4497 - val_loss: -2.1115 - val_accuracy: 0.2791\b\b\b\b\b\b\b\b\b\b\b\b\b\b\b\b\b\b\b\b\b\b\b\b\b\b\b\b\b\b\b\b\b\n",
      "Epoch 23/25\n",
      "6/6 [==============================] - 0s 12ms/step - loss: -2.7085 - accuracy: 0.4556 - val_loss: -2.2447 - val_accuracy: 0.3023\b\b\b\b\b\b\b\b\b\b\b\b\b\b\b\b\b\b\b\b\b\b\b\b\b\b\b\b\b\b\b\b\b\n",
      "Epoch 24/25\n",
      "6/6 [==============================] - 0s 12ms/step - loss: -2.8578 - accuracy: 0.4734 - val_loss: -2.3710 - val_accuracy: 0.3256\b\b\b\b\b\b\b\b\b\b\b\b\b\b\b\b\b\b\b\b\b\b\b\b\b\b\b\b\b\b\b\b\b\n",
      "Epoch 25/25\n",
      "6/6 [==============================] - 0s 10ms/step - loss: -3.0047 - accuracy: 0.4911 - val_loss: -2.5071 - val_accuracy: 0.3023\b\b\b\b\b\b\b\b\b\b\b\b\b\b\b\b\b\b\b\b\b\b\b\b\b\b\b\b\b\b\b\b\b\n",
      "3/3 - 0s - loss: -2.9730e+00 - accuracy: 0.4066\n",
      "Epoch 1/25\n",
      "6/6 [==============================] - 1s 67ms/step - loss: -0.1074 - accuracy: 0.1006 - val_loss: 0.0385 - val_accuracy: 0.0465\b\b\b\b\b\b\b\b\b\b\b\b\b\b\b\b\b\b\b\b\b\b\b\b\b\b\b\b\b\b\b\b\n",
      "Epoch 2/25\n",
      "6/6 [==============================] - 0s 11ms/step - loss: -0.2200 - accuracy: 0.1065 - val_loss: -0.0437 - val_accuracy: 0.0465\b\b\b\b\b\b\b\b\b\b\b\b\b\b\b\b\b\b\b\b\b\b\b\b\b\b\b\b\b\b\b\b\b\n",
      "Epoch 3/25\n",
      "6/6 [==============================] - 0s 11ms/step - loss: -0.3219 - accuracy: 0.1124 - val_loss: -0.1242 - val_accuracy: 0.0465\b\b\b\b\b\b\b\b\b\b\b\b\b\b\b\b\b\b\b\b\b\b\b\b\b\b\b\b\b\b\b\b\b\n",
      "Epoch 4/25\n",
      "6/6 [==============================] - 0s 11ms/step - loss: -0.4153 - accuracy: 0.1124 - val_loss: -0.2098 - val_accuracy: 0.0465\b\b\b\b\b\b\b\b\b\b\b\b\b\b\b\b\b\b\b\b\b\b\b\b\b\b\b\b\b\b\b\b\b\n",
      "Epoch 5/25\n",
      "6/6 [==============================] - 0s 13ms/step - loss: -0.5201 - accuracy: 0.1243 - val_loss: -0.2850 - val_accuracy: 0.0465\b\b\b\b\b\b\b\b\b\b\b\b\b\b\b\b\b\b\b\b\b\b\b\b\b\b\b\b\b\b\b\b\b\n",
      "Epoch 6/25\n",
      "6/6 [==============================] - 0s 14ms/step - loss: -0.6097 - accuracy: 0.1598 - val_loss: -0.3703 - val_accuracy: 0.0465\b\b\b\b\b\b\b\b\b\b\b\b\b\b\b\b\b\b\b\b\b\b\b\b\b\b\b\b\b\b\b\b\b\n",
      "Epoch 7/25\n",
      "6/6 [==============================] - 0s 11ms/step - loss: -0.7106 - accuracy: 0.1775 - val_loss: -0.4416 - val_accuracy: 0.1163\b\b\b\b\b\b\b\b\b\b\b\b\b\b\b\b\b\b\b\b\b\b\b\b\b\b\b\b\b\b\b\b\b\n",
      "Epoch 8/25\n",
      "6/6 [==============================] - 0s 13ms/step - loss: -0.8105 - accuracy: 0.2012 - val_loss: -0.5209 - val_accuracy: 0.1628\b\b\b\b\b\b\b\b\b\b\b\b\b\b\b\b\b\b\b\b\b\b\b\b\b\b\b\b\b\b\b\b\b\n",
      "Epoch 9/25\n",
      "6/6 [==============================] - 0s 13ms/step - loss: -0.9122 - accuracy: 0.2012 - val_loss: -0.5909 - val_accuracy: 0.1860\b\b\b\b\b\b\b\b\b\b\b\b\b\b\b\b\b\b\b\b\b\b\b\b\b\b\b\b\b\b\b\b\b\n",
      "Epoch 10/25\n",
      "6/6 [==============================] - 0s 13ms/step - loss: -1.0187 - accuracy: 0.2071 - val_loss: -0.6703 - val_accuracy: 0.2093\b\b\b\b\b\b\b\b\b\b\b\b\b\b\b\b\b\b\b\b\b\b\b\b\b\b\b\b\b\b\b\b\b\n",
      "Epoch 11/25\n",
      "6/6 [==============================] - 0s 11ms/step - loss: -1.1298 - accuracy: 0.2249 - val_loss: -0.7582 - val_accuracy: 0.2326\b\b\b\b\b\b\b\b\b\b\b\b\b\b\b\b\b\b\b\b\b\b\b\b\b\b\b\b\b\b\b\b\b\n",
      "Epoch 12/25\n",
      "6/6 [==============================] - 0s 12ms/step - loss: -1.2438 - accuracy: 0.2367 - val_loss: -0.8625 - val_accuracy: 0.2326\b\b\b\b\b\b\b\b\b\b\b\b\b\b\b\b\b\b\b\b\b\b\b\b\b\b\b\b\b\b\b\b\b\n",
      "Epoch 13/25\n",
      "6/6 [==============================] - 0s 13ms/step - loss: -1.3668 - accuracy: 0.2840 - val_loss: -0.9597 - val_accuracy: 0.2326\b\b\b\b\b\b\b\b\b\b\b\b\b\b\b\b\b\b\b\b\b\b\b\b\b\b\b\b\b\b\b\b\b\n",
      "Epoch 14/25\n",
      "6/6 [==============================] - 0s 13ms/step - loss: -1.4911 - accuracy: 0.3254 - val_loss: -1.0541 - val_accuracy: 0.2791\b\b\b\b\b\b\b\b\b\b\b\b\b\b\b\b\b\b\b\b\b\b\b\b\b\b\b\b\b\b\b\b\b\n",
      "Epoch 15/25\n",
      "6/6 [==============================] - 0s 11ms/step - loss: -1.6160 - accuracy: 0.3314 - val_loss: -1.1534 - val_accuracy: 0.2791\b\b\b\b\b\b\b\b\b\b\b\b\b\b\b\b\b\b\b\b\b\b\b\b\b\b\b\b\b\b\b\b\b\n",
      "Epoch 16/25\n",
      "6/6 [==============================] - 0s 12ms/step - loss: -1.7514 - accuracy: 0.3669 - val_loss: -1.2586 - val_accuracy: 0.3023\b\b\b\b\b\b\b\b\b\b\b\b\b\b\b\b\b\b\b\b\b\b\b\b\b\b\b\b\b\b\b\b\b\n",
      "Epoch 17/25\n",
      "6/6 [==============================] - 0s 13ms/step - loss: -1.8941 - accuracy: 0.4024 - val_loss: -1.3700 - val_accuracy: 0.3256\b\b\b\b\b\b\b\b\b\b\b\b\b\b\b\b\b\b\b\b\b\b\b\b\b\b\b\b\b\b\b\b\b\n",
      "Epoch 18/25\n",
      "6/6 [==============================] - 0s 13ms/step - loss: -2.0336 - accuracy: 0.4320 - val_loss: -1.4879 - val_accuracy: 0.3023\b\b\b\b\b\b\b\b\b\b\b\b\b\b\b\b\b\b\b\b\b\b\b\b\b\b\b\b\b\b\b\b\b\n",
      "Epoch 19/25\n",
      "6/6 [==============================] - 0s 12ms/step - loss: -2.1830 - accuracy: 0.4556 - val_loss: -1.6213 - val_accuracy: 0.3488\b\b\b\b\b\b\b\b\b\b\b\b\b\b\b\b\b\b\b\b\b\b\b\b\b\b\b\b\b\b\b\b\b\n",
      "Epoch 20/25\n",
      "6/6 [==============================] - 0s 11ms/step - loss: -2.3450 - accuracy: 0.4675 - val_loss: -1.7484 - val_accuracy: 0.3721\b\b\b\b\b\b\b\b\b\b\b\b\b\b\b\b\b\b\b\b\b\b\b\b\b\b\b\b\b\b\b\b\b\n",
      "Epoch 21/25\n",
      "6/6 [==============================] - 0s 13ms/step - loss: -2.5110 - accuracy: 0.4911 - val_loss: -1.8906 - val_accuracy: 0.3721\b\b\b\b\b\b\b\b\b\b\b\b\b\b\b\b\b\b\b\b\b\b\b\b\b\b\b\b\b\b\b\b\b\n",
      "Epoch 22/25\n",
      "6/6 [==============================] - 0s 13ms/step - loss: -2.6870 - accuracy: 0.5089 - val_loss: -2.0471 - val_accuracy: 0.3721\b\b\b\b\b\b\b\b\b\b\b\b\b\b\b\b\b\b\b\b\b\b\b\b\b\b\b\b\b\b\b\b\b\n",
      "Epoch 23/25\n",
      "6/6 [==============================] - 0s 13ms/step - loss: -2.8714 - accuracy: 0.5207 - val_loss: -2.2024 - val_accuracy: 0.3721\b\b\b\b\b\b\b\b\b\b\b\b\b\b\b\b\b\b\b\b\b\b\b\b\b\b\b\b\b\b\b\b\b\n",
      "Epoch 24/25\n",
      "6/6 [==============================] - 0s 12ms/step - loss: -3.0677 - accuracy: 0.5325 - val_loss: -2.3532 - val_accuracy: 0.3953\b\b\b\b\b\b\b\b\b\b\b\b\b\b\b\b\b\b\b\b\b\b\b\b\b\b\b\b\b\b\b\b\b\n",
      "Epoch 25/25\n",
      "6/6 [==============================] - 0s 13ms/step - loss: -3.2580 - accuracy: 0.5385 - val_loss: -2.5196 - val_accuracy: 0.4419\b\b\b\b\b\b\b\b\b\b\b\b\b\b\b\b\b\b\b\b\b\b\b\b\b\b\b\b\b\b\b\b\b\n",
      "3/3 - 0s - loss: -3.2194e+00 - accuracy: 0.4066\n",
      "Epoch 1/25\n",
      "6/6 [==============================] - 1s 67ms/step - loss: -0.0188 - accuracy: 0.3728 - val_loss: -0.0578 - val_accuracy: 0.3721\b\b\b\b\b\b\b\b\b\b\b\b\b\b\b\b\b\b\b\b\b\b\b\b\b\b\b\b\b\b\b\n",
      "Epoch 2/25\n",
      "6/6 [==============================] - 0s 11ms/step - loss: -0.1789 - accuracy: 0.3846 - val_loss: -0.1557 - val_accuracy: 0.3953\b\b\b\b\b\b\b\b\b\b\b\b\b\b\b\b\b\b\b\b\b\b\b\b\b\b\b\b\b\b\b\b\b\n",
      "Epoch 3/25\n",
      "6/6 [==============================] - 0s 10ms/step - loss: -0.3095 - accuracy: 0.4024 - val_loss: -0.2513 - val_accuracy: 0.4186\b\b\b\b\b\b\b\b\b\b\b\b\b\b\b\b\b\b\b\b\b\b\b\b\b\b\b\b\b\b\b\n",
      "Epoch 4/25\n",
      "6/6 [==============================] - 0s 12ms/step - loss: -0.4447 - accuracy: 0.4142 - val_loss: -0.3388 - val_accuracy: 0.4419\b\b\b\b\b\b\b\b\b\b\b\b\b\b\b\b\b\b\b\b\b\b\b\b\b\b\b\b\b\b\b\b\b\n",
      "Epoch 5/25\n",
      "6/6 [==============================] - 0s 13ms/step - loss: -0.5716 - accuracy: 0.4142 - val_loss: -0.4287 - val_accuracy: 0.4651\b\b\b\b\b\b\b\b\b\b\b\b\b\b\b\b\b\b\b\b\b\b\b\b\b\b\b\b\b\b\b\b\b\n",
      "Epoch 6/25\n",
      "6/6 [==============================] - 0s 12ms/step - loss: -0.7042 - accuracy: 0.4201 - val_loss: -0.5145 - val_accuracy: 0.4884\b\b\b\b\b\b\b\b\b\b\b\b\b\b\b\b\b\b\b\b\b\b\b\b\b\b\b\b\b\b\b\b\b\n",
      "Epoch 7/25\n",
      "6/6 [==============================] - 0s 11ms/step - loss: -0.8274 - accuracy: 0.4320 - val_loss: -0.6079 - val_accuracy: 0.4884\b\b\b\b\b\b\b\b\b\b\b\b\b\b\b\b\b\b\b\b\b\b\b\b\b\b\b\b\b\b\b\b\b\n",
      "Epoch 8/25\n",
      "6/6 [==============================] - 0s 11ms/step - loss: -0.9535 - accuracy: 0.4438 - val_loss: -0.6984 - val_accuracy: 0.4884\b\b\b\b\b\b\b\b\b\b\b\b\b\b\b\b\b\b\b\b\b\b\b\b\b\b\b\b\b\b\b\b\b\n",
      "Epoch 9/25\n",
      "6/6 [==============================] - 0s 12ms/step - loss: -1.0838 - accuracy: 0.4734 - val_loss: -0.7741 - val_accuracy: 0.4651\b\b\b\b\b\b\b\b\b\b\b\b\b\b\b\b\b\b\b\b\b\b\b\b\b\b\b\b\b\b\b\b\b\n",
      "Epoch 10/25\n",
      "6/6 [==============================] - 0s 11ms/step - loss: -1.2084 - accuracy: 0.4734 - val_loss: -0.8512 - val_accuracy: 0.4419\b\b\b\b\b\b\b\b\b\b\b\b\b\b\b\b\b\b\b\b\b\b\b\b\b\b\b\b\b\b\b\b\b\n",
      "Epoch 11/25\n",
      "6/6 [==============================] - 0s 14ms/step - loss: -1.3342 - accuracy: 0.4675 - val_loss: -0.9314 - val_accuracy: 0.4651\b\b\b\b\b\b\b\b\b\b\b\b\b\b\b\b\b\b\b\b\b\b\b\b\b\b\b\b\b\b\b\b\b\n",
      "Epoch 12/25\n",
      "6/6 [==============================] - 0s 14ms/step - loss: -1.4604 - accuracy: 0.5030 - val_loss: -1.0216 - val_accuracy: 0.4651\b\b\b\b\b\b\b\b\b\b\b\b\b\b\b\b\b\b\b\b\b\b\b\b\b\b\b\b\b\b\b\b\b\n",
      "Epoch 13/25\n",
      "6/6 [==============================] - 0s 12ms/step - loss: -1.5908 - accuracy: 0.5207 - val_loss: -1.1157 - val_accuracy: 0.4884\b\b\b\b\b\b\b\b\b\b\b\b\b\b\b\b\b\b\b\b\b\b\b\b\b\b\b\b\b\b\b\b\b\n",
      "Epoch 14/25\n",
      "6/6 [==============================] - 0s 13ms/step - loss: -1.7180 - accuracy: 0.5266 - val_loss: -1.1985 - val_accuracy: 0.5116\b\b\b\b\b\b\b\b\b\b\b\b\b\b\b\b\b\b\b\b\b\b\b\b\b\b\b\b\b\b\b\b\b\n",
      "Epoch 15/25\n",
      "6/6 [==============================] - 0s 11ms/step - loss: -1.8490 - accuracy: 0.5266 - val_loss: -1.2851 - val_accuracy: 0.5116\b\b\b\b\b\b\b\b\b\b\b\b\b\b\b\b\b\b\b\b\b\b\b\b\b\b\b\b\b\b\b\b\b\n",
      "Epoch 16/25\n",
      "6/6 [==============================] - 0s 13ms/step - loss: -1.9827 - accuracy: 0.5266 - val_loss: -1.3792 - val_accuracy: 0.5116\b\b\b\b\b\b\b\b\b\b\b\b\b\b\b\b\b\b\b\b\b\b\b\b\b\b\b\b\b\b\b\b\b\n",
      "Epoch 17/25\n",
      "6/6 [==============================] - 0s 17ms/step - loss: -2.1203 - accuracy: 0.5325 - val_loss: -1.4799 - val_accuracy: 0.5116\b\b\b\b\b\b\b\b\b\b\b\b\b\b\b\b\b\b\b\b\b\b\b\b\b\b\b\b\b\b\b\b\b\n",
      "Epoch 18/25\n",
      "6/6 [==============================] - 0s 11ms/step - loss: -2.2605 - accuracy: 0.5562 - val_loss: -1.5841 - val_accuracy: 0.4884\b\b\b\b\b\b\b\b\b\b\b\b\b\b\b\b\b\b\b\b\b\b\b\b\b\b\b\b\b\b\b\b\b\n",
      "Epoch 19/25\n",
      "6/6 [==============================] - 0s 10ms/step - loss: -2.4046 - accuracy: 0.5503 - val_loss: -1.6898 - val_accuracy: 0.5116\b\b\b\b\b\b\b\b\b\b\b\b\b\b\b\b\b\b\b\b\b\b\b\b\b\b\b\b\b\b\b\b\b\n",
      "Epoch 20/25\n",
      "6/6 [==============================] - 0s 13ms/step - loss: -2.5547 - accuracy: 0.5562 - val_loss: -1.7905 - val_accuracy: 0.5116\b\b\b\b\b\b\b\b\b\b\b\b\b\b\b\b\b\b\b\b\b\b\b\b\b\b\b\b\b\b\b\b\b\n",
      "Epoch 21/25\n",
      "6/6 [==============================] - 0s 13ms/step - loss: -2.6972 - accuracy: 0.5562 - val_loss: -1.8993 - val_accuracy: 0.5116\b\b\b\b\b\b\b\b\b\b\b\b\b\b\b\b\b\b\b\b\b\b\b\b\b\b\b\b\b\b\b\b\b\n",
      "Epoch 22/25\n",
      "6/6 [==============================] - 0s 11ms/step - loss: -2.8494 - accuracy: 0.5562 - val_loss: -2.0150 - val_accuracy: 0.5116\b\b\b\b\b\b\b\b\b\b\b\b\b\b\b\b\b\b\b\b\b\b\b\b\b\b\b\b\b\b\b\b\b\n",
      "Epoch 23/25\n",
      "6/6 [==============================] - 0s 13ms/step - loss: -3.0038 - accuracy: 0.5621 - val_loss: -2.1330 - val_accuracy: 0.5116\b\b\b\b\b\b\b\b\b\b\b\b\b\b\b\b\b\b\b\b\b\b\b\b\b\b\b\b\b\b\b\b\b\n",
      "Epoch 24/25\n",
      "6/6 [==============================] - 0s 12ms/step - loss: -3.1623 - accuracy: 0.5680 - val_loss: -2.2582 - val_accuracy: 0.5349\b\b\b\b\b\b\b\b\b\b\b\b\b\b\b\b\b\b\b\b\b\b\b\b\b\b\b\b\b\b\b\b\b\n",
      "Epoch 25/25\n",
      "6/6 [==============================] - 0s 11ms/step - loss: -3.3259 - accuracy: 0.5621 - val_loss: -2.3882 - val_accuracy: 0.5349\b\b\b\b\b\b\b\b\b\b\b\b\b\b\b\b\b\b\b\b\b\b\b\b\b\b\b\b\b\b\b\b\b\n",
      "3/3 - 0s - loss: -2.7756e+00 - accuracy: 0.4725\n",
      "Epoch 1/25\n",
      "6/6 [==============================] - 1s 129ms/step - loss: 0.1232 - accuracy: 0.1361 - val_loss: 0.1116 - val_accuracy: 0.1395\b\b\b\b\b\b\b\b\b\b\b\b\b\b\b\b\b\b\b\b\b\b\b\b\b\b\b\b\b\b\b\b\b\b\n",
      "Epoch 2/25\n",
      "6/6 [==============================] - 0s 11ms/step - loss: -0.0275 - accuracy: 0.1775 - val_loss: 0.0190 - val_accuracy: 0.1395\b\b\b\b\b\b\b\b\b\b\b\b\b\b\b\b\b\b\b\b\b\b\b\b\b\b\b\b\b\b\b\b\n",
      "Epoch 3/25\n",
      "6/6 [==============================] - 0s 12ms/step - loss: -0.1684 - accuracy: 0.1893 - val_loss: -0.0624 - val_accuracy: 0.2093\b\b\b\b\b\b\b\b\b\b\b\b\b\b\b\b\b\b\b\b\b\b\b\b\b\b\b\b\b\b\b\b\b\n",
      "Epoch 4/25\n",
      "6/6 [==============================] - 0s 12ms/step - loss: -0.2903 - accuracy: 0.1953 - val_loss: -0.1449 - val_accuracy: 0.2093\b\b\b\b\b\b\b\b\b\b\b\b\b\b\b\b\b\b\b\b\b\b\b\b\b\b\b\b\b\b\b\b\b\n",
      "Epoch 5/25\n",
      "6/6 [==============================] - 0s 12ms/step - loss: -0.4209 - accuracy: 0.2367 - val_loss: -0.2317 - val_accuracy: 0.2326\b\b\b\b\b\b\b\b\b\b\b\b\b\b\b\b\b\b\b\b\b\b\b\b\b\b\b\b\b\b\b\b\b\n",
      "Epoch 6/25\n",
      "6/6 [==============================] - 0s 14ms/step - loss: -0.5401 - accuracy: 0.2604 - val_loss: -0.3132 - val_accuracy: 0.3023\b\b\b\b\b\b\b\b\b\b\b\b\b\b\b\b\b\b\b\b\b\b\b\b\b\b\b\b\b\b\b\b\b\n",
      "Epoch 7/25\n",
      "6/6 [==============================] - 0s 12ms/step - loss: -0.6603 - accuracy: 0.3195 - val_loss: -0.4031 - val_accuracy: 0.3023\b\b\b\b\b\b\b\b\b\b\b\b\b\b\b\b\b\b\b\b\b\b\b\b\b\b\b\b\b\b\b\b\b\n",
      "Epoch 8/25\n",
      "6/6 [==============================] - 0s 11ms/step - loss: -0.7863 - accuracy: 0.3728 - val_loss: -0.5007 - val_accuracy: 0.3488\b\b\b\b\b\b\b\b\b\b\b\b\b\b\b\b\b\b\b\b\b\b\b\b\b\b\b\b\b\b\b\b\b\n",
      "Epoch 9/25\n",
      "6/6 [==============================] - 0s 14ms/step - loss: -0.9100 - accuracy: 0.4083 - val_loss: -0.5874 - val_accuracy: 0.3721\b\b\b\b\b\b\b\b\b\b\b\b\b\b\b\b\b\b\b\b\b\b\b\b\b\b\b\b\b\b\b\b\b\n",
      "Epoch 10/25\n",
      "6/6 [==============================] - 0s 12ms/step - loss: -1.0305 - accuracy: 0.4320 - val_loss: -0.6701 - val_accuracy: 0.3721\b\b\b\b\b\b\b\b\b\b\b\b\b\b\b\b\b\b\b\b\b\b\b\b\b\b\b\b\b\b\b\b\b\n",
      "Epoch 11/25\n",
      "6/6 [==============================] - 0s 12ms/step - loss: -1.1575 - accuracy: 0.4793 - val_loss: -0.7623 - val_accuracy: 0.3721\b\b\b\b\b\b\b\b\b\b\b\b\b\b\b\b\b\b\b\b\b\b\b\b\b\b\b\b\b\b\b\b\b\n",
      "Epoch 12/25\n",
      "6/6 [==============================] - 0s 12ms/step - loss: -1.2862 - accuracy: 0.4911 - val_loss: -0.8582 - val_accuracy: 0.3953\b\b\b\b\b\b\b\b\b\b\b\b\b\b\b\b\b\b\b\b\b\b\b\b\b\b\b\b\b\b\b\b\b\n",
      "Epoch 13/25\n",
      "6/6 [==============================] - 0s 13ms/step - loss: -1.4125 - accuracy: 0.5148 - val_loss: -0.9514 - val_accuracy: 0.3953\b\b\b\b\b\b\b\b\b\b\b\b\b\b\b\b\b\b\b\b\b\b\b\b\b\b\b\b\b\b\b\b\b\n",
      "Epoch 14/25\n",
      "6/6 [==============================] - 0s 15ms/step - loss: -1.5501 - accuracy: 0.5207 - val_loss: -1.0477 - val_accuracy: 0.3953\b\b\b\b\b\b\b\b\b\b\b\b\b\b\b\b\b\b\b\b\b\b\b\b\b\b\b\b\b\b\b\b\b\n",
      "Epoch 15/25\n",
      "6/6 [==============================] - 0s 11ms/step - loss: -1.6892 - accuracy: 0.5266 - val_loss: -1.1508 - val_accuracy: 0.3953\b\b\b\b\b\b\b\b\b\b\b\b\b\b\b\b\b\b\b\b\b\b\b\b\b\b\b\b\b\b\b\b\b\n",
      "Epoch 16/25\n",
      "6/6 [==============================] - 0s 12ms/step - loss: -1.8330 - accuracy: 0.5325 - val_loss: -1.2688 - val_accuracy: 0.4186\b\b\b\b\b\b\b\b\b\b\b\b\b\b\b\b\b\b\b\b\b\b\b\b\b\b\b\b\b\b\b\b\b\n",
      "Epoch 17/25\n",
      "6/6 [==============================] - 0s 13ms/step - loss: -1.9779 - accuracy: 0.5325 - val_loss: -1.4008 - val_accuracy: 0.4186\b\b\b\b\b\b\b\b\b\b\b\b\b\b\b\b\b\b\b\b\b\b\b\b\b\b\b\b\b\b\b\b\b\n",
      "Epoch 18/25\n",
      "6/6 [==============================] - 0s 11ms/step - loss: -2.1300 - accuracy: 0.5444 - val_loss: -1.5250 - val_accuracy: 0.4651\b\b\b\b\b\b\b\b\b\b\b\b\b\b\b\b\b\b\b\b\b\b\b\b\b\b\b\b\b\b\b\b\b\n",
      "Epoch 19/25\n",
      "6/6 [==============================] - 0s 11ms/step - loss: -2.2861 - accuracy: 0.5444 - val_loss: -1.6570 - val_accuracy: 0.4651\b\b\b\b\b\b\b\b\b\b\b\b\b\b\b\b\b\b\b\b\b\b\b\b\b\b\b\b\b\b\b\b\b\n",
      "Epoch 20/25\n",
      "6/6 [==============================] - 0s 13ms/step - loss: -2.4533 - accuracy: 0.5503 - val_loss: -1.8101 - val_accuracy: 0.4419\b\b\b\b\b\b\b\b\b\b\b\b\b\b\b\b\b\b\b\b\b\b\b\b\b\b\b\b\b\b\b\b\b\n",
      "Epoch 21/25\n",
      "6/6 [==============================] - 0s 12ms/step - loss: -2.6196 - accuracy: 0.5562 - val_loss: -1.9515 - val_accuracy: 0.4419\b\b\b\b\b\b\b\b\b\b\b\b\b\b\b\b\b\b\b\b\b\b\b\b\b\b\b\b\b\b\b\b\b\n",
      "Epoch 22/25\n",
      "6/6 [==============================] - 0s 11ms/step - loss: -2.7943 - accuracy: 0.5503 - val_loss: -2.1036 - val_accuracy: 0.4186\b\b\b\b\b\b\b\b\b\b\b\b\b\b\b\b\b\b\b\b\b\b\b\b\b\b\b\b\b\b\b\b\b\n",
      "Epoch 23/25\n",
      "6/6 [==============================] - 0s 11ms/step - loss: -2.9757 - accuracy: 0.5562 - val_loss: -2.2464 - val_accuracy: 0.4186\b\b\b\b\b\b\b\b\b\b\b\b\b\b\b\b\b\b\b\b\b\b\b\b\b\b\b\b\b\b\b\b\b\n",
      "Epoch 24/25\n",
      "6/6 [==============================] - 0s 13ms/step - loss: -3.1589 - accuracy: 0.5503 - val_loss: -2.3967 - val_accuracy: 0.4419\b\b\b\b\b\b\b\b\b\b\b\b\b\b\b\b\b\b\b\b\b\b\b\b\b\b\b\b\b\b\b\b\b\n",
      "Epoch 25/25\n",
      "6/6 [==============================] - 0s 14ms/step - loss: -3.3590 - accuracy: 0.5680 - val_loss: -2.5478 - val_accuracy: 0.4419\b\b\b\b\b\b\b\b\b\b\b\b\b\b\b\b\b\b\b\b\b\b\b\b\b\b\b\b\b\b\b\b\b\n",
      "3/3 - 0s - loss: -2.9318e+00 - accuracy: 0.4505\n"
     ]
    }
   ],
   "source": [
    "from tensorflow.keras.models import Sequential\n",
    "from tensorflow.keras.layers import Dense\n",
    "neurons = np.arange(5,55,5)\n",
    "temp = []\n",
    "for i in neurons:\n",
    "    model = Sequential([\n",
    "        Dense(i, activation='relu'), # for the first layer you need to specify input_dim\n",
    "        Dense(5, activation='softmax') # output layer with sigmoid to make sure the output is between 0 and 1\n",
    "                           ])\n",
    "    model.compile(optimizer='adam',\n",
    "                  loss='categorical_crossentropy',\n",
    "                  metrics=['accuracy'])\n",
    "    # temp.append([i,model.fit(X_train_imp_scale, y_train_imp_scale, validation_split=0.2, epochs=25, verbose=1,batch_size=32)])\n",
    "    model.fit(X_train_imp_scale, y_train_imp_scale, validation_split=0.2, epochs=25, verbose=1,batch_size=32)\n",
    "    temp.append([i,model.evaluate(X_test_imp_scale,  y_test_imp_scale, verbose=2)])"
   ],
   "metadata": {
    "collapsed": false,
    "pycharm": {
     "name": "#%%\n"
    }
   }
  },
  {
   "cell_type": "code",
   "execution_count": 386,
   "outputs": [
    {
     "data": {
      "text/plain": "   num neurons  accuracy\n5           30  0.505495",
      "text/html": "<div>\n<style scoped>\n    .dataframe tbody tr th:only-of-type {\n        vertical-align: middle;\n    }\n\n    .dataframe tbody tr th {\n        vertical-align: top;\n    }\n\n    .dataframe thead th {\n        text-align: right;\n    }\n</style>\n<table border=\"1\" class=\"dataframe\">\n  <thead>\n    <tr style=\"text-align: right;\">\n      <th></th>\n      <th>num neurons</th>\n      <th>accuracy</th>\n    </tr>\n  </thead>\n  <tbody>\n    <tr>\n      <th>5</th>\n      <td>30</td>\n      <td>0.505495</td>\n    </tr>\n  </tbody>\n</table>\n</div>"
     },
     "execution_count": 386,
     "metadata": {},
     "output_type": "execute_result"
    }
   ],
   "source": [
    "accuracy = []\n",
    "for i in range(len(temp)):\n",
    "    accuracy.append((temp[i][1][1]))\n",
    "\n",
    "d = {'num neurons':neurons,'accuracy':accuracy}\n",
    "best_neuro = pd.DataFrame(d)\n",
    "best_neuro[best_neuro['accuracy']==best_neuro['accuracy'].max()]\n",
    "\n"
   ],
   "metadata": {
    "collapsed": false,
    "pycharm": {
     "name": "#%%\n"
    }
   }
  },
  {
   "cell_type": "markdown",
   "source": [
    "# Best number nuerons\n",
    "\n",
    "From tunning, we see that 30 neurons gives us the highest accuracy rate at 0.5055."
   ],
   "metadata": {
    "collapsed": false
   }
  },
  {
   "cell_type": "code",
   "execution_count": 388,
   "outputs": [
    {
     "name": "stdout",
     "output_type": "stream",
     "text": [
      "Epoch 1/25\n",
      "6/6 [==============================] - 1s 73ms/step - loss: -0.0384 - accuracy: 0.4320 - val_loss: -0.1132 - val_accuracy: 0.5116\b\b\b\b\b\b\b\b\b\b\b\b\b\b\b\b\b\b\b\b\b\b\b\b\b\b\b\b\b\b\b\n",
      "Epoch 2/25\n",
      "6/6 [==============================] - 0s 11ms/step - loss: -0.1662 - accuracy: 0.4615 - val_loss: -0.2114 - val_accuracy: 0.5349\b\b\b\b\b\b\b\b\b\b\b\b\b\b\b\b\b\b\b\b\b\b\b\b\b\b\b\b\b\b\b\b\b\n",
      "Epoch 3/25\n",
      "6/6 [==============================] - 0s 12ms/step - loss: -0.2817 - accuracy: 0.4615 - val_loss: -0.3027 - val_accuracy: 0.5581\b\b\b\b\b\b\b\b\b\b\b\b\b\b\b\b\b\b\b\b\b\b\b\b\b\b\b\b\b\b\b\b\b\n",
      "Epoch 4/25\n",
      "6/6 [==============================] - 0s 14ms/step - loss: -0.3879 - accuracy: 0.4793 - val_loss: -0.3881 - val_accuracy: 0.6047\b\b\b\b\b\b\b\b\b\b\b\b\b\b\b\b\b\b\b\b\b\b\b\b\b\b\b\b\b\b\b\b\b\n",
      "Epoch 5/25\n",
      "6/6 [==============================] - 0s 19ms/step - loss: -0.4952 - accuracy: 0.4911 - val_loss: -0.4752 - val_accuracy: 0.6279\b\b\b\b\b\b\b\b\b\b\b\b\b\b\b\b\b\b\b\b\b\b\b\b\b\b\b\b\b\b\b\b\b\n",
      "Epoch 6/25\n",
      "6/6 [==============================] - 0s 16ms/step - loss: -0.5981 - accuracy: 0.5089 - val_loss: -0.5642 - val_accuracy: 0.6279\b\b\b\b\b\b\b\b\b\b\b\b\b\b\b\b\b\b\b\b\b\b\b\b\b\b\b\b\b\b\b\b\b\n",
      "Epoch 7/25\n",
      "6/6 [==============================] - 0s 12ms/step - loss: -0.7042 - accuracy: 0.5089 - val_loss: -0.6549 - val_accuracy: 0.6279\b\b\b\b\b\b\b\b\b\b\b\b\b\b\b\b\b\b\b\b\b\b\b\b\b\b\b\b\b\b\b\b\b\n",
      "Epoch 8/25\n",
      "6/6 [==============================] - 0s 14ms/step - loss: -0.8107 - accuracy: 0.5148 - val_loss: -0.7499 - val_accuracy: 0.6047\b\b\b\b\b\b\b\b\b\b\b\b\b\b\b\b\b\b\b\b\b\b\b\b\b\b\b\b\b\b\b\b\b\n",
      "Epoch 9/25\n",
      "6/6 [==============================] - 0s 17ms/step - loss: -0.9149 - accuracy: 0.5325 - val_loss: -0.8439 - val_accuracy: 0.6047\b\b\b\b\b\b\b\b\b\b\b\b\b\b\b\b\b\b\b\b\b\b\b\b\b\b\b\b\b\b\b\b\b\n",
      "Epoch 10/25\n",
      "6/6 [==============================] - 0s 15ms/step - loss: -1.0173 - accuracy: 0.5325 - val_loss: -0.9222 - val_accuracy: 0.6279\b\b\b\b\b\b\b\b\b\b\b\b\b\b\b\b\b\b\b\b\b\b\b\b\b\b\b\b\b\b\b\b\b\n",
      "Epoch 11/25\n",
      "6/6 [==============================] - 0s 16ms/step - loss: -1.1126 - accuracy: 0.5266 - val_loss: -1.0074 - val_accuracy: 0.6279\b\b\b\b\b\b\b\b\b\b\b\b\b\b\b\b\b\b\b\b\b\b\b\b\b\b\b\b\b\b\b\b\b\n",
      "Epoch 12/25\n",
      "6/6 [==============================] - 0s 16ms/step - loss: -1.2158 - accuracy: 0.5325 - val_loss: -1.0917 - val_accuracy: 0.6279\b\b\b\b\b\b\b\b\b\b\b\b\b\b\b\b\b\b\b\b\b\b\b\b\b\b\b\b\b\b\b\b\b\n",
      "Epoch 13/25\n",
      "6/6 [==============================] - 0s 15ms/step - loss: -1.3128 - accuracy: 0.5325 - val_loss: -1.1755 - val_accuracy: 0.6047\b\b\b\b\b\b\b\b\b\b\b\b\b\b\b\b\b\b\b\b\b\b\b\b\b\b\b\b\b\b\b\b\b\n",
      "Epoch 14/25\n",
      "6/6 [==============================] - 0s 15ms/step - loss: -1.4164 - accuracy: 0.5385 - val_loss: -1.2593 - val_accuracy: 0.6047\b\b\b\b\b\b\b\b\b\b\b\b\b\b\b\b\b\b\b\b\b\b\b\b\b\b\b\b\b\b\b\b\b\n",
      "Epoch 15/25\n",
      "6/6 [==============================] - 0s 15ms/step - loss: -1.5166 - accuracy: 0.5503 - val_loss: -1.3426 - val_accuracy: 0.6047\b\b\b\b\b\b\b\b\b\b\b\b\b\b\b\b\b\b\b\b\b\b\b\b\b\b\b\b\b\b\b\b\b\n",
      "Epoch 16/25\n",
      "6/6 [==============================] - 0s 19ms/step - loss: -1.6218 - accuracy: 0.5562 - val_loss: -1.4254 - val_accuracy: 0.6047\b\b\b\b\b\b\b\b\b\b\b\b\b\b\b\b\b\b\b\b\b\b\b\b\b\b\b\b\b\b\b\b\b\n",
      "Epoch 17/25\n",
      "6/6 [==============================] - 0s 20ms/step - loss: -1.7221 - accuracy: 0.5680 - val_loss: -1.5046 - val_accuracy: 0.6047\b\b\b\b\b\b\b\b\b\b\b\b\b\b\b\b\b\b\b\b\b\b\b\b\b\b\b\b\b\b\b\b\b\n",
      "Epoch 18/25\n",
      "6/6 [==============================] - 0s 19ms/step - loss: -1.8257 - accuracy: 0.5799 - val_loss: -1.5981 - val_accuracy: 0.6047\b\b\b\b\b\b\b\b\b\b\b\b\b\b\b\b\b\b\b\b\b\b\b\b\b\b\b\b\b\b\b\b\b\n",
      "Epoch 19/25\n",
      "6/6 [==============================] - 0s 12ms/step - loss: -1.9356 - accuracy: 0.5799 - val_loss: -1.6850 - val_accuracy: 0.6279\b\b\b\b\b\b\b\b\b\b\b\b\b\b\b\b\b\b\b\b\b\b\b\b\b\b\b\b\b\b\b\b\b\n",
      "Epoch 20/25\n",
      "6/6 [==============================] - 0s 12ms/step - loss: -2.0410 - accuracy: 0.5858 - val_loss: -1.7733 - val_accuracy: 0.6279\b\b\b\b\b\b\b\b\b\b\b\b\b\b\b\b\b\b\b\b\b\b\b\b\b\b\b\b\b\b\b\b\b\n",
      "Epoch 21/25\n",
      "6/6 [==============================] - 0s 12ms/step - loss: -2.1436 - accuracy: 0.5858 - val_loss: -1.8526 - val_accuracy: 0.6047\b\b\b\b\b\b\b\b\b\b\b\b\b\b\b\b\b\b\b\b\b\b\b\b\b\b\b\b\b\b\b\b\b\n",
      "Epoch 22/25\n",
      "6/6 [==============================] - 0s 11ms/step - loss: -2.2473 - accuracy: 0.5858 - val_loss: -1.9519 - val_accuracy: 0.6279\b\b\b\b\b\b\b\b\b\b\b\b\b\b\b\b\b\b\b\b\b\b\b\b\b\b\b\b\b\b\b\b\b\n",
      "Epoch 23/25\n",
      "6/6 [==============================] - 0s 11ms/step - loss: -2.3627 - accuracy: 0.5858 - val_loss: -2.0428 - val_accuracy: 0.6047\b\b\b\b\b\b\b\b\b\b\b\b\b\b\b\b\b\b\b\b\b\b\b\b\b\b\b\b\b\b\b\b\b\n",
      "Epoch 24/25\n",
      "6/6 [==============================] - 0s 13ms/step - loss: -2.4761 - accuracy: 0.5799 - val_loss: -2.1398 - val_accuracy: 0.5814\b\b\b\b\b\b\b\b\b\b\b\b\b\b\b\b\b\b\b\b\b\b\b\b\b\b\b\b\b\b\b\b\b\n",
      "Epoch 25/25\n",
      "6/6 [==============================] - 0s 15ms/step - loss: -2.5934 - accuracy: 0.5799 - val_loss: -2.2413 - val_accuracy: 0.5581\b\b\b\b\b\b\b\b\b\b\b\b\b\b\b\b\b\b\b\b\b\b\b\b\b\b\b\b\b\b\b\b\b\n",
      "3/3 - 0s - loss: -2.4205e+00 - accuracy: 0.5495\n"
     ]
    }
   ],
   "source": [
    "model = Sequential([\n",
    "      Dense(30, activation='relu'), # for the first layer you need to specify input_dim\n",
    "      Dense(5, activation='softmax') # output layer with sigmoid to make sure the output is between 0 and 1\n",
    "    ])\n",
    "model.compile(optimizer='adam',\n",
    "                  loss='categorical_crossentropy',\n",
    "                  metrics=['accuracy'])\n",
    "model.fit(X_train_imp_scale, y_train_imp_scale, validation_split=0.2, epochs=25, verbose=1,batch_size=32)\n",
    "history = model.evaluate(X_test_imp_scale,  y_test_imp_scale, verbose=2)"
   ],
   "metadata": {
    "collapsed": false,
    "pycharm": {
     "name": "#%%\n"
    }
   }
  },
  {
   "cell_type": "code",
   "execution_count": 391,
   "outputs": [
    {
     "data": {
      "text/plain": "[-2.4204678535461426, 0.5494505763053894]"
     },
     "execution_count": 391,
     "metadata": {},
     "output_type": "execute_result"
    }
   ],
   "source": [],
   "metadata": {
    "collapsed": false,
    "pycharm": {
     "name": "#%%\n"
    }
   }
  },
  {
   "cell_type": "code",
   "execution_count": null,
   "outputs": [],
   "source": [
    "print('Loss',history[0])\n",
    "print('Accuracy',history[1])"
   ],
   "metadata": {
    "collapsed": false,
    "pycharm": {
     "name": "#%%\n"
    }
   }
  }
 ],
 "metadata": {
  "kernelspec": {
   "display_name": "Python 3",
   "language": "python",
   "name": "python3"
  },
  "language_info": {
   "codemirror_mode": {
    "name": "ipython",
    "version": 2
   },
   "file_extension": ".py",
   "mimetype": "text/x-python",
   "name": "python",
   "nbconvert_exporter": "python",
   "pygments_lexer": "ipython2",
   "version": "2.7.6"
  }
 },
 "nbformat": 4,
 "nbformat_minor": 0
}