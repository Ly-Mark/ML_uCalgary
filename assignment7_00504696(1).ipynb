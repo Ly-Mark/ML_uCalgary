{
  "nbformat": 4,
  "nbformat_minor": 0,
  "metadata": {
    "colab": {
      "name": "assignment7_00504696.ipynb",
      "provenance": [],
      "collapsed_sections": []
    },
    "kernelspec": {
      "name": "python3",
      "display_name": "Python 3"
    },
    "language_info": {
      "name": "python"
    }
  },
  "cells": [
    {
      "cell_type": "markdown",
      "source": [
        "# Data 622\n",
        "## Assignment 7 - Convolutional Neural Network (CNN)\n",
        "Mark Ly\n",
        "Student ID: 00504696"
      ],
      "metadata": {
        "id": "oQZ6VaZKMlcu"
      }
    },
    {
      "cell_type": "code",
      "source": [
        "from tensorflow.keras.datasets import cifar100\n",
        "from tensorflow.keras.layers import Dense, Activation, Flatten, Conv2D, MaxPooling2D\n",
        "from tensorflow.keras.models import Sequential\n",
        "from tensorflow.keras.utils import to_categorical\n",
        "\n",
        "import pandas as pd\n",
        "import numpy as np\n",
        "import matplotlib.pyplot as plt\n",
        "import pickle"
      ],
      "metadata": {
        "id": "mhmg2YlPMou0"
      },
      "execution_count": 40,
      "outputs": []
    },
    {
      "cell_type": "markdown",
      "source": [
        "## Loading Dataset\n",
        "There are 50,000 32 x 32 images in the training set, each with a 3 color channel. \n",
        "\n",
        "The dataset has 100 different fine labels "
      ],
      "metadata": {
        "id": "H3hWkaGBMrq2"
      }
    },
    {
      "cell_type": "code",
      "source": [
        "(X_train,y_train), (X_test,y_test) =cifar100.load_data(label_mode='fine')\n",
        "print(X_train.shape)\n",
        "print(X_test.shape)\n",
        "print(y_train.shape)\n",
        "print(y_test.shape)"
      ],
      "metadata": {
        "colab": {
          "base_uri": "https://localhost:8080/"
        },
        "id": "ObLaboCrMvvH",
        "outputId": "273f6733-547b-4a03-a5c9-b2a3824b95a9"
      },
      "execution_count": 41,
      "outputs": [
        {
          "output_type": "stream",
          "name": "stdout",
          "text": [
            "(50000, 32, 32, 3)\n",
            "(10000, 32, 32, 3)\n",
            "(50000, 1)\n",
            "(10000, 1)\n"
          ]
        }
      ]
    },
    {
      "cell_type": "code",
      "source": [
        "plt.imshow(X_train[0], cmap = plt.cm.binary)\n",
        "plt.show()\n",
        "print(y_train[0])"
      ],
      "metadata": {
        "colab": {
          "base_uri": "https://localhost:8080/",
          "height": 284
        },
        "id": "Qa9J_nvHMxbR",
        "outputId": "ba57a37e-83ff-43e5-948a-aab202edf8d5"
      },
      "execution_count": 42,
      "outputs": [
        {
          "output_type": "display_data",
          "data": {
            "text/plain": [
              "<Figure size 432x288 with 1 Axes>"
            ],
            "image/png": "[encoded data removed]"
          },
          "metadata": {
            "needs_background": "light"
          }
        },
        {
          "output_type": "stream",
          "name": "stdout",
          "text": [
            "[19]\n"
          ]
        }
      ]
    },
    {
      "cell_type": "markdown",
      "source": [
        "## Splitting the data \n"
      ],
      "metadata": {
        "id": "ttHJxexT4PGk"
      }
    },
    {
      "cell_type": "code",
      "source": [
        "\n",
        "num_classes = 100\n",
        "y_train = to_categorical(y_train, num_classes)\n",
        "y_test = to_categorical(y_test, num_classes)\n",
        "\n",
        "X_train = X_train.astype('float32')\n",
        "X_test = X_test.astype('float32')\n",
        "X_train /= 255\n",
        "X_test /= 255"
      ],
      "metadata": {
        "id": "6IQcC8YhVAZb"
      },
      "execution_count": 43,
      "outputs": []
    },
    {
      "cell_type": "markdown",
      "source": [
        "## CNN Architecture\n",
        "\n",
        "The first stack of convolution layers has 64 units and pooling is done on a 2 x 2 grid. The second stack we increased units to 128, again pooling with a 2x2 grid and finally we have a dense layer of 512 units before changing the final layer back to the length of classes (100). \n",
        "\n",
        "ReLU activation function was used for the convolution stacks with the function $f(x)=max(0,x)$. If x is less than 0, the activation function becomes zero, otherwise it increases linearly with x.\n",
        "\n",
        "The model was then evaluated using _categorical crossentropy_ as the loss function and _accuracy_ for the metric."
      ],
      "metadata": {
        "id": "Xz1CS-Dm4o9_"
      }
    },
    {
      "cell_type": "code",
      "source": [
        "model = Sequential()\n",
        "\n",
        "model.add(Conv2D(64, (3, 3),input_shape=X_train.shape[1:]))\n",
        "model.add(Activation('relu'))\n",
        "model.add(Conv2D(64, (3, 3)))\n",
        "model.add(Activation('relu'))\n",
        "model.add(MaxPooling2D(pool_size=(2, 2)))\n",
        "\n",
        "\n",
        "model.add(Conv2D(128, (3, 3)))\n",
        "model.add(Activation('relu'))\n",
        "model.add(Conv2D(128, (3, 3)))\n",
        "model.add(Activation('relu'))\n",
        "model.add(MaxPooling2D(pool_size=(2, 2)))\n",
        "\n",
        "model.add(Flatten())\n",
        "model.add(Dense(512))\n",
        "model.add(Activation('relu'))\n",
        "\n",
        "model.add(Dense(num_classes))\n",
        "model.add(Activation('softmax'))\n",
        "\n",
        "\n",
        "model.compile(loss='categorical_crossentropy',\n",
        "              optimizer='adam',\n",
        "              metrics=['accuracy'])\n",
        "\n"
      ],
      "metadata": {
        "id": "-ivM_qRBVHBL"
      },
      "execution_count": 44,
      "outputs": []
    },
    {
      "cell_type": "markdown",
      "source": [
        "## Fitting the model\n",
        "We will use a batch size of 128 and 10 epochs. \n",
        "\n",
        "The average run time for each epoch was ~6-7 minutes"
      ],
      "metadata": {
        "id": "y48L-2CZ7a4L"
      }
    },
    {
      "cell_type": "code",
      "source": [
        "model.fit(X_train, y_train, batch_size=128, epochs=10)"
      ],
      "metadata": {
        "colab": {
          "base_uri": "https://localhost:8080/"
        },
        "id": "Q_oNujkacLBS",
        "outputId": "9f077a6c-85fd-4bc5-91c0-5f5d223ecad7"
      },
      "execution_count": 45,
      "outputs": [
        {
          "output_type": "stream",
          "name": "stdout",
          "text": [
            "Epoch 1/10\n",
            "391/391 [==============================] - 431s 1s/step - loss: 3.8361 - accuracy: 0.1149\n",
            "Epoch 2/10\n",
            "391/391 [==============================] - 431s 1s/step - loss: 3.0127 - accuracy: 0.2601\n",
            "Epoch 3/10\n",
            "391/391 [==============================] - 430s 1s/step - loss: 2.5800 - accuracy: 0.3485\n",
            "Epoch 4/10\n",
            "391/391 [==============================] - 430s 1s/step - loss: 2.2612 - accuracy: 0.4138\n",
            "Epoch 5/10\n",
            "391/391 [==============================] - 430s 1s/step - loss: 1.9749 - accuracy: 0.4768\n",
            "Epoch 6/10\n",
            "391/391 [==============================] - 431s 1s/step - loss: 1.7332 - accuracy: 0.5328\n",
            "Epoch 7/10\n",
            "391/391 [==============================] - 430s 1s/step - loss: 1.4853 - accuracy: 0.5879\n",
            "Epoch 8/10\n",
            "391/391 [==============================] - 434s 1s/step - loss: 1.2506 - accuracy: 0.6442\n",
            "Epoch 9/10\n",
            "391/391 [==============================] - 435s 1s/step - loss: 1.0275 - accuracy: 0.7020\n",
            "Epoch 10/10\n",
            "391/391 [==============================] - 431s 1s/step - loss: 0.8149 - accuracy: 0.7579\n"
          ]
        },
        {
          "output_type": "execute_result",
          "data": {
            "text/plain": [
              "<keras.callbacks.History at 0x7f05691084d0>"
            ]
          },
          "metadata": {},
          "execution_count": 45
        }
      ]
    },
    {
      "cell_type": "markdown",
      "source": [
        "# Evaluating on test data\n",
        "\n",
        "The network above gave test loss of 3.082 and a test accuracy of 39.4%"
      ],
      "metadata": {
        "id": "UNhHPpd_7tjF"
      }
    },
    {
      "cell_type": "code",
      "source": [
        "test_loss, test_acc = model.evaluate(X_test, y_test)\n",
        "print('Test loss', test_loss)\n",
        "print('Test accuracy', test_acc)"
      ],
      "metadata": {
        "colab": {
          "base_uri": "https://localhost:8080/"
        },
        "id": "JCzR4hvBt4Jz",
        "outputId": "a079027e-c187-4ece-c523-1e594a56fe75"
      },
      "execution_count": 46,
      "outputs": [
        {
          "output_type": "stream",
          "name": "stdout",
          "text": [
            "313/313 [==============================] - 24s 77ms/step - loss: 3.0816 - accuracy: 0.3943\n",
            "Test loss 3.081646680831909\n",
            "Test accuracy 0.39430001378059387\n"
          ]
        }
      ]
    },
    {
      "cell_type": "markdown",
      "source": [
        "## Predictions\n",
        "Using the trained model to predict on the X_test dataset. "
      ],
      "metadata": {
        "id": "V3w38hg-jhyb"
      }
    },
    {
      "cell_type": "code",
      "source": [
        "predictions = model.predict(X_test)\n",
        "np.argmax(np.round(predictions[1]))\n",
        "print(np.argmax(np.round(y_test[1])))"
      ],
      "metadata": {
        "colab": {
          "base_uri": "https://localhost:8080/"
        },
        "id": "3L4ZVpptum8Y",
        "outputId": "856d4443-f32c-4023-c549-0773db78ef34"
      },
      "execution_count": 54,
      "outputs": [
        {
          "output_type": "stream",
          "name": "stdout",
          "text": [
            "80\n",
            "33\n"
          ]
        }
      ]
    },
    {
      "cell_type": "markdown",
      "source": [
        "## Showing images\n",
        "Randomly selecting 5 numbers to display 5 images, we predicted 2/5 correctly which matches our model accuracy of 40%.\n",
        "\n",
        "To improve the model we may modify our architecture by including a dropout layer after each convolution block. At the cost of training time, we could increase the units to 1040."
      ],
      "metadata": {
        "id": "iqDnzG-6kBhP"
      }
    },
    {
      "cell_type": "code",
      "source": [
        "\n",
        "plt.figure(figsize=(10,10))\n",
        "for i in range(5):\n",
        "    rand_num = np.random.randint(0,101)\n",
        "\n",
        "    cifar_img = plt.subplot(1,5,i+1)\n",
        "    plt.imshow(X_test[rand_num])\n",
        "\n",
        "    plt.xticks(color=\"None\")\n",
        "    plt.yticks(color=\"None\")\n",
        "\n",
        "    plt.tick_params(length=0)\n",
        "    plt.title('pred:{0},actual:{1}'.format(np.argmax(np.round(predictions[rand_num])),\n",
        "                                        np.argmax(np.round(y_test[rand_num]))))\n",
        " \n",
        "plt.show()"
      ],
      "metadata": {
        "colab": {
          "base_uri": "https://localhost:8080/",
          "height": 157
        },
        "id": "_gghK-fXgjU4",
        "outputId": "7fa9c03f-31c3-4040-a903-c85d7ef64179"
      },
      "execution_count": 61,
      "outputs": [
        {
          "output_type": "display_data",
          "data": {
            "text/plain": [
              "<Figure size 720x720 with 5 Axes>"
            ],
            "image/png": "[encoded data removed]"
          },
          "metadata": {
            "needs_background": "light"
          }
        }
      ]
    },
    {
      "cell_type": "markdown",
      "source": [
        "## References\n",
        "[Keras Convolutional Neural Network for CIFAR-100 - Andrew Kruger](https://andrewkruger.github.io/projects/2017-08-05-keras-convolutional-neural-network-for-cifar-100)\n",
        "\n",
        "[CIFAR-100: Pre-processing for image recognition task - Chetna Khanna](https://towardsdatascience.com/cifar-100-pre-processing-for-image-recognition-task-68015b43d658)\n",
        "\n",
        "[4 Proven Tricks to Improve your Deep Learning Model’s Performance - 'PulkitS'](https://www.analyticsvidhya.com/blog/2019/11/4-tricks-improve-deep-learning-model-performance/)\n"
      ],
      "metadata": {
        "id": "11HVZxgQl2V8"
      }
    }
  ]
}